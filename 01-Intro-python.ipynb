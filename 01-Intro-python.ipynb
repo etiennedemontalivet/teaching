{
  "cells": [
    {
      "cell_type": "markdown",
      "metadata": {
        "id": "-CzLVqEz0EXH"
      },
      "source": [
        "\n",
        " ![](https://github.com/etiennedemontalivet/teaching/blob/master/fig/python-logo.png?raw=1)\n",
        "\n",
        "\n",
        "\n",
        "# Introduction à la Programmation Python\n",
        "***\n",
        "\n",
        "Contenu largement inspiré de https://fitzinger.gitlab.io/formation-python/\n",
        "\n",
        "*Contenu sous licence [CC BY-SA 4.0](https://creativecommons.org/licenses/by-sa/4.0)*"
      ]
    },
    {
      "cell_type": "markdown",
      "metadata": {
        "id": "nL8abf9g0EXP"
      },
      "source": [
        "# Langage python et sa syntaxe\n",
        "\n",
        "## Variables\n",
        "\n",
        "Pour accéder aux données, on leur donne des noms que l'on appelle des variables.\n",
        "\n",
        "Pour donner un nom à une donnée, on utilise l'opérateur d'assignation '='.\n",
        "\n",
        "Exécutez la cellule suivante (SHIFT+ENTER) pour définir trois variables nommées : age, prénom et taille."
      ]
    },
    {
      "cell_type": "code",
      "execution_count": null,
      "metadata": {
        "id": "9jHmd9WK0EXQ"
      },
      "outputs": [],
      "source": [
        "# Par exemple: donnons la valeur 23 à la variable 'age'\n",
        "age = 23\n",
        "# Les variables peuvent se référer à divers types de données: des chaînes de caractères...\n",
        "prenom = 'Julien'\n",
        "# Des nombres réels, etc...\n",
        "taille = 1.83"
      ]
    },
    {
      "cell_type": "markdown",
      "metadata": {
        "id": "N8gIsQbd0EXT"
      },
      "source": [
        "Pour se servir de la donnée référencée par une variable, il suffit d'utiliser le nom cette variable.\n",
        "\n",
        "La fonction [``print()``](https://docs.python.org/3/library/functions.html#print) affiche à l'écran ce qui lui est passé en paramètre. On peut lui donner plusieurs paramètres séparés par des virgules et print les affichera tous, séparés par un espace."
      ]
    },
    {
      "cell_type": "code",
      "execution_count": null,
      "metadata": {
        "colab": {
          "base_uri": "https://localhost:8080/"
        },
        "id": "e_qJf2yn0EXU",
        "outputId": "ea7ccd17-aaa5-4b2e-d20b-8dc405a93007"
      },
      "outputs": [
        {
          "output_type": "stream",
          "name": "stdout",
          "text": [
            "Julien 23 1.83\n",
            "Julien a 23 ans, et mesure 1.83 mètre\n"
          ]
        }
      ],
      "source": [
        "print('Julien', 23, 1.83)\n",
        "print(prenom, 'a', age, 'ans, et mesure', taille, 'mètre')"
      ]
    },
    {
      "cell_type": "markdown",
      "metadata": {
        "id": "X4P3Toi60EXV"
      },
      "source": [
        "Les variables peuvent changer et ainsi se référer à une autre donnée."
      ]
    },
    {
      "cell_type": "code",
      "execution_count": null,
      "metadata": {
        "colab": {
          "base_uri": "https://localhost:8080/"
        },
        "id": "CfQQZ3Bd0EXV",
        "outputId": "5777da06-299d-4ec4-d4e7-68c94202c143"
      },
      "outputs": [
        {
          "output_type": "stream",
          "name": "stdout",
          "text": [
            "23\n",
            "24\n"
          ]
        }
      ],
      "source": [
        "age = 23\n",
        "print(age)\n",
        "age = 24\n",
        "print(age)"
      ]
    },
    {
      "cell_type": "markdown",
      "metadata": {
        "id": "r-RpAQQP0EXW"
      },
      "source": [
        "Les variables n'ont pas de type propre: c'est la donnée qui est typée, pas la variable qui la référence.<BR>\n",
        "Elles peuvent donc faire référence à une donnée d'un autre type après une nouvelle assignation.\n",
        "\n",
        "La fonction [``type()``](https://docs.python.org/3/library/functions.html#type) retourne le type effectif de la donnée passée en paramètre."
      ]
    },
    {
      "cell_type": "code",
      "execution_count": null,
      "metadata": {
        "colab": {
          "base_uri": "https://localhost:8080/"
        },
        "id": "3ceJjr3m0EXX",
        "outputId": "0212f342-2c2a-4d62-bf0e-b2986ee579e3"
      },
      "outputs": [
        {
          "output_type": "stream",
          "name": "stdout",
          "text": [
            "<class 'int'>\n",
            "<class 'str'>\n",
            "<class 'float'>\n",
            "<class 'str'>\n"
          ]
        }
      ],
      "source": [
        "# Des nombres\n",
        "age = 23\n",
        "print(type(age))\n",
        "# Les variables peuvent aussi changer de type : chaîne de caractères\n",
        "age = 'vingt quatre ans'\n",
        "print(type(age))\n",
        "# Sans limites...\n",
        "age = 24.5\n",
        "print(type(age))\n",
        "# Attention aux pièges...\n",
        "age = '25'\n",
        "print(type(age))"
      ]
    },
    {
      "cell_type": "markdown",
      "metadata": {
        "id": "GCyu298g0EXY"
      },
      "source": [
        "Une variable peut être initialisée avec des valeur constantes, comme vu précédement, mais aussi à partir d'autres variables ou des valeurs de retour de fonctions, etc...\n",
        "\n",
        "La fonction [max()](https://docs.python.org/3/library/functions.html#min) retourne le plus grand de ses paramètres."
      ]
    },
    {
      "cell_type": "code",
      "execution_count": null,
      "metadata": {
        "colab": {
          "base_uri": "https://localhost:8080/"
        },
        "id": "0X6mqubK0EXZ",
        "outputId": "daa7730a-cbb8-427d-cfb7-a5cb1487f1cc"
      },
      "outputs": [
        {
          "output_type": "stream",
          "name": "stdout",
          "text": [
            "1 1 2 3\n"
          ]
        }
      ],
      "source": [
        "a = 1\n",
        "b = a\n",
        "c = a * 2\n",
        "d = max(a, 2, 3, c)\n",
        "print(a, b, c, d)"
      ]
    },
    {
      "cell_type": "markdown",
      "metadata": {
        "id": "WCaVvQnn0EXa"
      },
      "source": [
        "Deux variables peuvent référencer le même objet, les modifications faites par l'intermédiaire d'une des variables sont visibles par toutes les autres."
      ]
    },
    {
      "cell_type": "code",
      "execution_count": null,
      "metadata": {
        "colab": {
          "base_uri": "https://localhost:8080/"
        },
        "id": "vYpdbWoY0EXb",
        "outputId": "bee3d1e2-56d1-43da-ebf5-3142fab66c96"
      },
      "outputs": [
        {
          "output_type": "stream",
          "name": "stdout",
          "text": [
            "[] []\n",
            "[1] [1]\n"
          ]
        }
      ],
      "source": [
        "a = []\n",
        "b = a\n",
        "print(a, b)\n",
        "a.append(1)\n",
        "print(a, b)"
      ]
    },
    {
      "cell_type": "markdown",
      "metadata": {
        "id": "73Lb3bXQ0EXb"
      },
      "source": [
        "Les variables, une fois définies dans une cellule **exécutée**, continuent d'exister dans les suivantes.\n",
        "\n",
        "### Note\n",
        "\n",
        "En cas de redémarrage du notebook, toutes les variables existantes sont détruites, il faut donc ré-exécuter les cellules qui les définissent si l'on veut de nouveau pouvoir les utiliser."
      ]
    },
    {
      "cell_type": "code",
      "execution_count": null,
      "metadata": {
        "id": "54FF-wic0EXc"
      },
      "outputs": [],
      "source": [
        "abcd = 1234"
      ]
    },
    {
      "cell_type": "markdown",
      "metadata": {
        "id": "UtfjOy_j0EXc"
      },
      "source": [
        "Ici, la variable nommée 'abcd' survit, d'une cellule à la suivante..."
      ]
    },
    {
      "cell_type": "code",
      "execution_count": null,
      "metadata": {
        "colab": {
          "base_uri": "https://localhost:8080/"
        },
        "id": "_MbNxgnr0EXd",
        "outputId": "2d98ac02-da59-49f1-fba4-f6ccb8107909"
      },
      "outputs": [
        {
          "output_type": "stream",
          "name": "stdout",
          "text": [
            "1234\n"
          ]
        }
      ],
      "source": [
        "print(abcd)"
      ]
    },
    {
      "cell_type": "markdown",
      "metadata": {
        "id": "7MNWwV7t0EXd"
      },
      "source": [
        "Si on veut faire disparaître une variable, on peut utiliser le mot clé interne [``del``](https://docs.python.org/3/reference/simple_stmts.html#the-del-statement)."
      ]
    },
    {
      "cell_type": "code",
      "execution_count": null,
      "metadata": {
        "colab": {
          "base_uri": "https://localhost:8080/",
          "height": 217
        },
        "id": "u7x8ffZy0EXe",
        "outputId": "4ba95abf-a274-41cd-950d-af83c9f5cf09"
      },
      "outputs": [
        {
          "output_type": "stream",
          "name": "stdout",
          "text": [
            "2\n"
          ]
        },
        {
          "output_type": "error",
          "ename": "NameError",
          "evalue": "ignored",
          "traceback": [
            "\u001b[0;31m---------------------------------------------------------------------------\u001b[0m",
            "\u001b[0;31mNameError\u001b[0m                                 Traceback (most recent call last)",
            "\u001b[0;32m<ipython-input-20-11ac22f6810f>\u001b[0m in \u001b[0;36m<module>\u001b[0;34m\u001b[0m\n\u001b[1;32m      3\u001b[0m \u001b[0mprint\u001b[0m\u001b[0;34m(\u001b[0m\u001b[0ma\u001b[0m\u001b[0;34m)\u001b[0m\u001b[0;34m\u001b[0m\u001b[0;34m\u001b[0m\u001b[0m\n\u001b[1;32m      4\u001b[0m \u001b[0;32mdel\u001b[0m\u001b[0;34m(\u001b[0m\u001b[0ma\u001b[0m\u001b[0;34m)\u001b[0m\u001b[0;34m\u001b[0m\u001b[0;34m\u001b[0m\u001b[0m\n\u001b[0;32m----> 5\u001b[0;31m \u001b[0mprint\u001b[0m\u001b[0;34m(\u001b[0m\u001b[0ma\u001b[0m\u001b[0;34m)\u001b[0m\u001b[0;34m\u001b[0m\u001b[0;34m\u001b[0m\u001b[0m\n\u001b[0m",
            "\u001b[0;31mNameError\u001b[0m: name 'a' is not defined"
          ]
        }
      ],
      "source": [
        "# Cette cellule génère une erreur\n",
        "a = 2\n",
        "print(a)\n",
        "del(a)\n",
        "print(a)"
      ]
    },
    {
      "cell_type": "markdown",
      "metadata": {
        "id": "ICSueNtE0EXe"
      },
      "source": [
        "**Note :** [``del``](https://docs.python.org/3/reference/simple_stmts.html#the-del-statement) est aussi utilisé pour enlever des éléments dans des conteneurs modifiables (listes, dictionnaires). Nous aborderons ce sujet plus tard."
      ]
    },
    {
      "cell_type": "markdown",
      "metadata": {
        "id": "snrvwwNW0EXe"
      },
      "source": [
        "# Types de données\n",
        "\n",
        "#### Types de base\n",
        "- None\n",
        "- Booléens\n",
        "- Numériques\n",
        "    - entiers\n",
        "    - flottants\n",
        "    - complexes\n",
        "\n",
        "#### Séquences\n",
        "- Chaines de caractères\n",
        "- listes\n",
        "- tuples\n",
        "\n",
        "#### Conteneurs\n",
        "- Dictionnaires\n",
        "- Ensembles\n",
        "\n",
        "#### Fichiers\n"
      ]
    },
    {
      "cell_type": "markdown",
      "metadata": {
        "id": "ubkrPzgf0EXf"
      },
      "source": [
        "# Types de base\n",
        "\n",
        "## ``None``\n",
        "\n",
        "- Il existe dans python un type de données particulier : ``None``.\n",
        "- ``None`` représente un objet sans valeur. On s'en sert comme valeur de retour en cas d'erreur ou pour représenter un cas particulier.\n",
        "- ``None`` est équivalent à NULL en java, C."
      ]
    },
    {
      "cell_type": "code",
      "execution_count": null,
      "metadata": {
        "id": "WZMtkhzF0EXf"
      },
      "outputs": [],
      "source": [
        "a = None\n",
        "print(a)\n",
        "print(type(a))"
      ]
    },
    {
      "cell_type": "markdown",
      "metadata": {
        "id": "LQoWgPpI0EXg"
      },
      "source": [
        "## Booléens\n",
        "\n",
        "Les booléens ne peuvent avoir que deux valeurs :\n",
        "\n",
        "    True, False\n",
        "\n",
        "On peut utiliser la fonction [``bool()``](https://docs.python.org/3/library/functions.html#bool) pour construire un booléen.\n",
        "    \n",
        "Dans un contexte booléen, toutes ces valeurs sont équivalentes à ``False`` :\n",
        "\n",
        "- ``None``\n",
        "- le zero des types numériques, par exemple : ``0, 0.0, 0j``.\n",
        "- les séquences vides, par exemple : ``'', (), []``.\n",
        "- les dictionnaires vides, par exemple, ``{}``.\n",
        "\n",
        "Tout le reste est équivalent a ``True`` :\n",
        "\n",
        "- une valeur numérique différente de zéro : ``2, 3.14, 0.5j``\n",
        "- une séquence non vide : ``'abc', (1, 0.5, 'toto'), [None]``\n",
        "- un dictionnaire non vide : ``{'ane': True, 'chat': True}``"
      ]
    },
    {
      "cell_type": "markdown",
      "metadata": {
        "id": "cCm5Ffz00EXg"
      },
      "source": [
        "### Quelques exemples de constructions de valeurs booléennes à partir d'autres types"
      ]
    },
    {
      "cell_type": "code",
      "execution_count": null,
      "metadata": {
        "id": "m0vnfp6r0EXh"
      },
      "outputs": [],
      "source": [
        "print(bool(None), bool())\n",
        "print(bool(0), bool(1))\n",
        "print(bool(0.0), bool(0.5))\n",
        "print(bool(0j), bool(3j))\n",
        "print(bool(''), bool('abc'))\n",
        "print(bool(()), bool((1, 0.5, 'toto')))\n",
        "print(bool([]), bool([None]))\n",
        "print(bool({}), bool({'ane': True, 'chat': True}))"
      ]
    },
    {
      "cell_type": "markdown",
      "metadata": {
        "id": "BysRruyy0EXh"
      },
      "source": [
        "### Exemple d'utilisation d'un contexte booléen"
      ]
    },
    {
      "cell_type": "code",
      "execution_count": null,
      "metadata": {
        "id": "bKhTdZvW0EXh"
      },
      "outputs": [],
      "source": [
        "Am_I_OK = True\n",
        "if Am_I_OK:\n",
        "    print('OK')\n",
        "else:\n",
        "    print('KO')\n",
        "print(Am_I_OK)\n",
        "print(type(Am_I_OK))"
      ]
    },
    {
      "cell_type": "markdown",
      "metadata": {
        "id": "9L1mwnWm0EXi"
      },
      "source": [
        "> **Exercice :**\n",
        "> 1. Supposons que vous soyez malade, mettez ``Am_I_OK`` à la valeur ``False`` puis réexecutez la cellule.\n",
        "> 2. Essayez avec d'autres types : listes, ``None``, nombres, etc..."
      ]
    },
    {
      "cell_type": "markdown",
      "metadata": {
        "id": "gvOgbUi70EXi"
      },
      "source": [
        "## Numériques\n",
        "\n",
        "### entiers (précision illimitée)"
      ]
    },
    {
      "cell_type": "code",
      "execution_count": null,
      "metadata": {
        "id": "5Pvx_sTK0EXi"
      },
      "outputs": [],
      "source": [
        "# Il n'y a plus de distinction entre les entiers \"courts\" et les entiers \"longs\"\n",
        "entier = 4\n",
        "print(entier)\n",
        "print(type(entier))\n",
        "# Ce nombre nécéssite 131 bits\n",
        "entier = 1415926535897932384626433832795028841971\n",
        "print(entier)\n",
        "print(type(entier))"
      ]
    },
    {
      "cell_type": "markdown",
      "metadata": {
        "id": "_MKAIZU30EXj"
      },
      "source": [
        "> **Note :** En python version < 3.0, il existait deux types distincts ``int`` et ``long``..."
      ]
    },
    {
      "cell_type": "markdown",
      "metadata": {
        "id": "-SFFbwl50EXj"
      },
      "source": [
        "On peut utiliser la fonction interne [``int()``](https://docs.python.org/3/library/functions.html#int) pour créer des nombres entiers. Elle peut créer des entiers a partir de leur représentation sous forme de chaîne de caractères. On peut aussi spécifier la base."
      ]
    },
    {
      "cell_type": "code",
      "execution_count": null,
      "metadata": {
        "id": "7RUicAfJ0EXj"
      },
      "outputs": [],
      "source": [
        "entier = int(12)\n",
        "print(entier)\n",
        "print(type(entier))\n",
        "entier = int('13')\n",
        "print(entier)\n",
        "print(type(entier))\n",
        "entier = int('0xFF', 16)\n",
        "print(entier)\n",
        "print(type(entier))"
      ]
    },
    {
      "cell_type": "markdown",
      "metadata": {
        "id": "cRwWPhf30EXk"
      },
      "source": [
        "### Flottants (réels 64 bits)\n",
        "\n",
        "Pour créer des nombres réels (en virgule flottante), on peut utiliser la fonction interne [``float()``](https://docs.python.org/3/library/functions.html#float).\n",
        "\n",
        "La précision est limitée à la 16ème décimale."
      ]
    },
    {
      "cell_type": "code",
      "execution_count": null,
      "metadata": {
        "id": "W9c7MZDd0EXk"
      },
      "outputs": [],
      "source": [
        "pi_approx = 3.1415926535897932\n",
        "print(pi_approx)\n",
        "print(type(pi_approx))\n",
        "print('{:.16f}'.format(pi_approx))\n",
        "tropgros = float('Infinity')\n",
        "print(type(tropgros))\n",
        "print(tropgros)"
      ]
    },
    {
      "cell_type": "markdown",
      "metadata": {
        "id": "imAaRwfj0EXk"
      },
      "source": [
        "Attention ! Python autorise un affichage plus long que la précision des flottants mais tous les chiffres après le 16ème chiffre significatif sont faux :"
      ]
    },
    {
      "cell_type": "code",
      "execution_count": null,
      "metadata": {
        "id": "04H0_BJQ0EXl"
      },
      "outputs": [],
      "source": [
        "# On demande 20 chiffres après la virgule, alors que 16 seulement sont exacts\n",
        "print('{:.20f}'.format(pi_approx))"
      ]
    },
    {
      "cell_type": "markdown",
      "metadata": {
        "id": "rNBMO2AO0EXl"
      },
      "source": [
        "Attention à ne pas effectuer des opérations interdites..."
      ]
    },
    {
      "cell_type": "code",
      "execution_count": null,
      "metadata": {
        "id": "79vvq2M_0EXl"
      },
      "outputs": [],
      "source": [
        "# Cette cellule génère une erreur\n",
        "print(3.14 / 0)"
      ]
    },
    {
      "cell_type": "code",
      "execution_count": null,
      "metadata": {
        "id": "vUcFH4lV0EXm"
      },
      "outputs": [],
      "source": [
        "# Cette cellule génère une erreur\n",
        "print(34 % 0)"
      ]
    },
    {
      "cell_type": "code",
      "execution_count": null,
      "metadata": {
        "id": "7CEyMgE60EXm"
      },
      "outputs": [],
      "source": [
        "# Cette cellule génère une erreur\n",
        "print(27 // 0.0)"
      ]
    },
    {
      "cell_type": "code",
      "execution_count": null,
      "metadata": {
        "id": "QD-zlCE_0EXm"
      },
      "outputs": [],
      "source": [
        "# Cette cellule génère une erreur\n",
        "print(1 + None)"
      ]
    },
    {
      "cell_type": "markdown",
      "metadata": {
        "id": "nEib0wOC0EXm"
      },
      "source": [
        "### Complexes\n",
        "\n",
        "Les nombres complexes, a deux dimensions, peuvent être créés en utilisant le suffixe ``j`` à la fin d'un entier ou réel ou en utilisant la fonction interne: [``complex()``](https://docs.python.org/3/library/functions.html#complex)"
      ]
    },
    {
      "cell_type": "code",
      "execution_count": null,
      "metadata": {
        "id": "lzR1rXoB0EXn"
      },
      "outputs": [],
      "source": [
        "complexe = 1 + 2j\n",
        "print('représentation :', complexe)\n",
        "print(type(complexe))\n",
        "c = .3j\n",
        "print(c)"
      ]
    },
    {
      "cell_type": "markdown",
      "metadata": {
        "id": "rvCxLoPE0EXn"
      },
      "source": [
        "# Séquences\n",
        "\n",
        "Les séquences sont des conteneurs d'objets où les objets référencés sont ordonnés.\n",
        "\n",
        "Python supporte nativement trois types de séquences :\n",
        "\n",
        "- les chaînes de caractères\n",
        "- les listes\n",
        "- les tuples\n",
        "\n",
        "**Note :** De nouveaux types de conteneurs peuvent être créés."
      ]
    },
    {
      "cell_type": "markdown",
      "metadata": {
        "id": "QKCCSZOT0EXn"
      },
      "source": [
        "## Chaînes de caractères\n",
        "\n",
        "Pour le traitement de données textuelles, python utilise les chaînes de caractères.\n",
        "\n",
        "Il existe plusieurs façons de définir une chaîne de caractères.\n",
        "\n",
        "Pour délimiter le texte on utilise des guillemets (double-quote) ou des apostrophes (single-quote)"
      ]
    },
    {
      "cell_type": "code",
      "execution_count": null,
      "metadata": {
        "id": "tZ_4khG20EXo"
      },
      "outputs": [],
      "source": [
        "mois1 = 'janvier'\n",
        "mois2 = \"février\"\n",
        "print(mois1, mois2)"
      ]
    },
    {
      "cell_type": "markdown",
      "metadata": {
        "id": "2-t6_AyG0EXo"
      },
      "source": [
        "Les deux formes sont très utiles car elles permettent d'utiliser des guillemets ou des apostrophes dans des chaîne de caractères de manière simple."
      ]
    },
    {
      "cell_type": "code",
      "execution_count": null,
      "metadata": {
        "id": "tG7KOcCL0EXo"
      },
      "outputs": [],
      "source": [
        "arbre = \"l'olivier\"\n",
        "print(arbre)\n",
        "cuisson_pates = \"huit minutes (8')\"\n",
        "print(cuisson_pates)\n",
        "record_100m = 'neuf secondes et 58 dixièmes (9\"58)'\n",
        "print(record_100m)"
      ]
    },
    {
      "cell_type": "markdown",
      "metadata": {
        "id": "zmxBgHT30EXo"
      },
      "source": [
        "Sinon, pour avoir une apostrophe ou un guillemet dans une chaîne de caractères, il faut le faire précéder d'un ``\\`` (backslash). Ce qui est beaucoup moins lisible, mais parfois obligatoire (par exemple une chaîne avec à la fois des guillemets et des apostrophes)."
      ]
    },
    {
      "cell_type": "code",
      "execution_count": null,
      "metadata": {
        "id": "GO4tBdnB0EXp"
      },
      "outputs": [],
      "source": [
        "arbre = 'l\\'alisier'\n",
        "pates = '8\\''\n",
        "record = \"9\\\"58\"\n",
        "print(arbre, pates, record)\n",
        "duel = 'guillemet: \" et apostrophes: \\' peuvent être utilisés dans une même chaîne...'\n",
        "print(duel)\n",
        "multi = '''Dans une \"triplequoted\" (voire plus loin), on peut (presque) tout utiliser: `\"“ ”,'\"«»'\"' et ça ne pose pas de problème...'''\n",
        "print(multi)"
      ]
    },
    {
      "cell_type": "markdown",
      "metadata": {
        "id": "Sp40FFQr0EXp"
      },
      "source": [
        "### Caractères spéciaux \n",
        "\n",
        "Il est possible de définir des chaînes de caractères qui contiennent des caractères spéciaux. Ils sont introduits par des séquences de deux caractères dont le premier est un \\ (backslash). On l'appelle le caractère d'échappement.\n",
        "\n",
        "- retour à la ligne : ``\\n``\n",
        "- tabulation : ``\\t``\n",
        "- backslash : ``\\\\``\n",
        "- un caractère unicode avec son code : ``\\uXXXX`` (où les ``XXXX`` sont le code hexadécimal représentant ce caractère)\n",
        "\n",
        "Plus d'information dans la [documentation officielle](https://docs.python.org/3/tutorial/introduction.html#strings)"
      ]
    },
    {
      "cell_type": "code",
      "execution_count": null,
      "metadata": {
        "id": "89j5jtZO0EXp"
      },
      "outputs": [],
      "source": [
        "print(\"Une belle présentation, c'est:\")\n",
        "print('\\t- bien ordonné')\n",
        "print('\\t- aligné')\n",
        "print(\"\\t- m\\u00EAme s'il y en a plein\\nEt c'est plus joli.\")"
      ]
    },
    {
      "cell_type": "markdown",
      "metadata": {
        "id": "21T6CJBC0EXq"
      },
      "source": [
        "### Chaînes multilignes \n",
        "\n",
        "Pour écrire plusieurs lignes d'une façon plus lisible, il existe les chaînes multilignes :"
      ]
    },
    {
      "cell_type": "code",
      "execution_count": null,
      "metadata": {
        "id": "rqAoF_K-0EXq"
      },
      "outputs": [],
      "source": [
        "# L'équivalent est :\n",
        "print('''\\\n",
        "Une belle présentation, c'est:\n",
        "\\t- bien ordonné\n",
        "\\t- aligné\n",
        "\\t- même s'il y en a plein\n",
        "Et c'est plus joli.''')"
      ]
    },
    {
      "cell_type": "markdown",
      "metadata": {
        "id": "OqK_HDsR0EXq"
      },
      "source": [
        "> **Exercice** : enlevez le caractère \\ de la 2ème ligne dans la cellule ci-dessus, et comparez le résultat à celui de la cellule de code précédente (3 cellules plus haut)"
      ]
    },
    {
      "cell_type": "markdown",
      "metadata": {
        "id": "bm6oFaHs0EXr"
      },
      "source": [
        "Les deux formes de délimiteurs sont aussi utilisables : guillemets triples ou apostrophes triples."
      ]
    },
    {
      "cell_type": "code",
      "execution_count": null,
      "metadata": {
        "id": "0uGgwOtJ0EXr"
      },
      "outputs": [],
      "source": [
        "multi1 = '''m\n",
        "a\n",
        "r\n",
        "s est un mois \"multiligne\"'''\n",
        "print(multi1, '\\n')\n",
        "\n",
        "multi2 = \"\"\"a\n",
        "v\n",
        "r\n",
        "i\n",
        "l l'est aussi\"\"\"\n",
        "print(multi2)"
      ]
    },
    {
      "cell_type": "markdown",
      "metadata": {
        "id": "pgkph7Pk0EXr"
      },
      "source": [
        "### Unicode\n",
        "\n",
        "En python 3 , toutes les chaînes de caractères sont unicode, et permettent d'utiliser des alphabets différents, des caractères accentués ou des pictogrammes, etc.\n",
        "\n",
        "Exemples de caractères spéciaux :"
      ]
    },
    {
      "cell_type": "code",
      "execution_count": null,
      "metadata": {
        "id": "WySIPeH30EXr"
      },
      "outputs": [],
      "source": [
        "unicode_str = \"Les échecs (♔♕♖♗♘♙), c'est \\u263A\"\n",
        "print(unicode_str)\n",
        "japanese_str = 'Du japonais : ウェブ'\n",
        "print(japanese_str)\n",
        "mix_str = '你好 kollha दुनिया'\n",
        "print('\"' + mix_str + '\"', 'veut dire: \"bonjour tout le monde\"')"
      ]
    },
    {
      "cell_type": "markdown",
      "metadata": {
        "id": "M-4SxhLJ0EXs"
      },
      "source": [
        "Pour une liste de caractères unicode, voir [ici](https://en.wikipedia.org/wiki/List_of_Unicode_characters)."
      ]
    },
    {
      "cell_type": "markdown",
      "metadata": {
        "id": "FcnGKkl70EXs"
      },
      "source": [
        "### Chaînes spéciales\n",
        "\n",
        "Il existe d'autres manières plus spécialisées de définir des chaînes de caractères.\n",
        "\n",
        "Premièrement, des chaînes dans lesquelles les séquences d'échappement ne sont pas remplacées (raw strings = chaînes brutes): ``r'...'``, ``r'''...'''``, etc."
      ]
    },
    {
      "cell_type": "code",
      "execution_count": null,
      "metadata": {
        "id": "GBF0j4NV0EXs"
      },
      "outputs": [],
      "source": [
        "normal_str = \"chaîne normale: \\n'est pas un retour à la ligne, \\t pas une tabulation\"\n",
        "print(normal_str)\n",
        "\n",
        "raw_str = r\"chaîne RAW: \\n'est pas un retour à la ligne, \\t pas une tabulation\"\n",
        "print(raw_str)"
      ]
    },
    {
      "cell_type": "markdown",
      "metadata": {
        "id": "LAvD55hP0EXt"
      },
      "source": [
        "Plusieurs chaînes de caractères contigües sont rassemblées (concaténées)"
      ]
    },
    {
      "cell_type": "code",
      "execution_count": null,
      "metadata": {
        "id": "x-OZAsQu0EXt"
      },
      "outputs": [],
      "source": [
        "b = 'a' 'z' 'e' 'r' 't' 'y'\n",
        "print(b)"
      ]
    },
    {
      "cell_type": "markdown",
      "metadata": {
        "id": "ediSDiLl0EXt"
      },
      "source": [
        "On peut mélanger les genres."
      ]
    },
    {
      "cell_type": "code",
      "execution_count": null,
      "metadata": {
        "id": "CRSJ6Fuz0EXt"
      },
      "outputs": [],
      "source": [
        "a = 'une chaine ' u\"qui est \" r'''la somme de ''' \"\"\"plusieurs morceaux...\"\"\"\n",
        "print(a)"
      ]
    },
    {
      "cell_type": "markdown",
      "metadata": {
        "id": "P-syJKss0EXu"
      },
      "source": [
        "On peut utiliser la fonction ``str()`` pour créer une chaîne de caractère à partir d'autres objets."
      ]
    },
    {
      "cell_type": "code",
      "execution_count": null,
      "metadata": {
        "id": "5wT08O050EXu"
      },
      "outputs": [],
      "source": [
        "a = 23\n",
        "ch_a = str(a)\n",
        "print(type(a), a)\n",
        "print(type(ch_a), repr(ch_a))\n",
        "a = 3.14\n",
        "ch_a = str(a)\n",
        "print(type(a), a)\n",
        "print(type(ch_a), repr(ch_a))"
      ]
    },
    {
      "cell_type": "markdown",
      "metadata": {
        "id": "gB52xOJT0EXu"
      },
      "source": [
        "On ne peut pas mélanger les guillemets et les apostrophes pour délimiter une chaîne de caractères."
      ]
    },
    {
      "cell_type": "code",
      "execution_count": null,
      "metadata": {
        "id": "OFn9sVla0EXu"
      },
      "outputs": [],
      "source": [
        "# Cette cellule génère une erreur\n",
        "a = \"azerty'"
      ]
    },
    {
      "cell_type": "code",
      "execution_count": null,
      "metadata": {
        "id": "LJnd6NL_0EXv"
      },
      "outputs": [],
      "source": [
        "# Cette cellule génère une erreur\n",
        "a = 'azerty\""
      ]
    },
    {
      "cell_type": "markdown",
      "metadata": {
        "id": "3X-V_-gf0EXv"
      },
      "source": [
        "> **Exercice** : corrigez les deux cellules ci dessus."
      ]
    },
    {
      "cell_type": "markdown",
      "metadata": {
        "id": "YXSTvOmK0EXv"
      },
      "source": [
        "### Formatage \n",
        "\n",
        "On peut formater du texte, c'est à dire utiliser une chaîne de caractères qui va servir de modèle pour en fabriquer d'autres. Il y a plusieurs manières de faire cela.\n",
        "\n",
        "#### Méthode format()\n",
        "\n",
        "On utilise la méthode [``format()``](https://docs.python.org/3/library/stdtypes.html#str.format) d'une chaîne de caractères qui va remplacer les occurences de ``'{}'`` par des valeurs qu'on lui spécifie en paramètre. Le type des valeurs passées n'est pas important, une représentation sous forme de chaîne de caractère sera automatiquement créée, avec la fonction [``str()``](https://docs.python.org/3/library/functions.html#func-str).\n",
        "\n",
        "    'Bonjour {} !'.format('le monde')"
      ]
    },
    {
      "cell_type": "code",
      "execution_count": null,
      "metadata": {
        "id": "x5GQ52aZ0EXv"
      },
      "outputs": [],
      "source": [
        "variable_1 = 27\n",
        "variable_2 = 'vingt huit'\n",
        "ch_modele = 'Une chaine qui contient un {} ou de multiples ici {} et là {}'\n",
        "ch_modele.format('toto', variable_1, variable_2) "
      ]
    },
    {
      "cell_type": "markdown",
      "metadata": {
        "id": "dcZ9uSUW0EXw"
      },
      "source": [
        "#### Opérateur %\n",
        "\n",
        "On peut aussi formater du texte avec [l'opérateur ``%``](https://docs.python.org/3/library/stdtypes.html#printf-style-string-formatting). Il va analyser la chaîne à la recherche de caractères '%' et remplacer les marqueurs par le contenu de variables.\n",
        "\n",
        "Les marqueurs sont donc l'association d'un caractère '%' avec une sequence de caractères décrivant le type de la donnée à intégrer et la manière de formater sa représentation.\n",
        "\n",
        "- %d pour des entiers\n",
        "- %s pour des chaînes de caractères\n",
        "- %f pour des nombres flottants\n",
        "- %x pour un nombre entier affiché en base hexadécimale\n",
        "- %o pour un nombre entier affiché en base octale\n",
        "- %e pour un nombre affiché en notation exponentielle"
      ]
    },
    {
      "cell_type": "code",
      "execution_count": null,
      "metadata": {
        "id": "-j4lwkX40EXw"
      },
      "outputs": [],
      "source": [
        "import math\n",
        "a = 27\n",
        "print('un nombre : %d, une chaîne : %s, un flottant avec une précision spécifiée : %.02f' % (a, 'canal+', math.pi))\n",
        "print('%x, %x, %x, %x' % (254, 255, 256, 257))\n",
        "print('%o, %o, %o, %o' % (254, 255, 256, 257))\n",
        "print('%e' % 2**64)"
      ]
    },
    {
      "cell_type": "markdown",
      "metadata": {
        "id": "T8C43If80EXw"
      },
      "source": [
        "Attention: Si le type de la donnée passée ne correspond pas à la séquence de formatage (%<qqchose>) python va remonter une erreur."
      ]
    },
    {
      "cell_type": "code",
      "execution_count": null,
      "metadata": {
        "id": "WdZqM6kc0EXw"
      },
      "outputs": [],
      "source": [
        "# Cette cellule génère une erreur\n",
        "variable_3 = 'une chaine de caracteres'\n",
        "# Exemple d'erreur de type: il faut un entier, on a une chaîne de caractères\n",
        "print('on veut un entier : %d' % variable_3)"
      ]
    },
    {
      "cell_type": "markdown",
      "metadata": {
        "id": "rKN1OiO-0EXx"
      },
      "source": [
        "On peut se servir de cette fonctionnalité pour tabuler du texte de taille variable."
      ]
    },
    {
      "cell_type": "code",
      "execution_count": null,
      "metadata": {
        "id": "fOKW2h5m0EXx"
      },
      "outputs": [],
      "source": [
        "ani_mots = ('ane', 'becasse', 'chat', 'dinde', 'elephant')\n",
        "print('''\n",
        "Alignons a droite les animaux:\n",
        "Un animal : %08s.\n",
        "Un animal : %08s.\n",
        "Un animal : %18s, qui se croit plus malin que les autres.\n",
        "Un animal : %08s.\n",
        "Un animal : %08s.''' % ani_mots)"
      ]
    },
    {
      "cell_type": "markdown",
      "metadata": {
        "id": "COm02iSX0EXx"
      },
      "source": [
        "> **Exercice** : remettez le chat à sa place."
      ]
    },
    {
      "cell_type": "markdown",
      "metadata": {
        "id": "GUEnPa2E0EXy"
      },
      "source": [
        "Pour plus d'informations sur le formatage de chaînes de caractères, voir [ici](https://docs.python.org/3/library/stdtypes.html#string-formatting-operations) et pour la méthode ``.format()`` qui tend à remplacer l'utilisation de l'opérateur ``%``, voir [là](https://docs.python.org/3/library/string.html#formatstrings)."
      ]
    },
    {
      "cell_type": "markdown",
      "metadata": {
        "id": "5tkbDzY-0EXy"
      },
      "source": [
        "## Listes\n",
        "\n",
        "Une liste est un objet pouvant contenir d'autres objets. Ces objets sont placés à l'intérieur de façon séquentielle, les uns à la suite des autres. C'est un conteneur dynamique qui peut accueillir de nouveaux éléments ou pouvant rétrécir si on en supprimme.\n",
        "\n",
        "On crée un liste en délimitant par des crochets ``[]`` les éléments qui le composent :"
      ]
    },
    {
      "cell_type": "code",
      "execution_count": null,
      "metadata": {
        "id": "-QKHOgka0EXy"
      },
      "outputs": [],
      "source": [
        "L = ['egg', 'spam', 'spam', 'spam', 'bacon']\n",
        "print(L, 'est de type', type(L))"
      ]
    },
    {
      "cell_type": "markdown",
      "metadata": {
        "id": "NGfp2Y_D0EXy"
      },
      "source": [
        "Une liste peut contenir n'importe quel type d'objets."
      ]
    },
    {
      "cell_type": "code",
      "execution_count": null,
      "metadata": {
        "id": "i7ZjasB70EXz"
      },
      "outputs": [],
      "source": [
        "L0 = [1, 2]\n",
        "L2 = [None, True, False, 0, 1, 2**64, 3.14, '', 0+1j, 'abc']\n",
        "L1 = []\n",
        "L3 = [[1, 'azerty'], L0]\n",
        "print(L0, L1)\n",
        "print(L2)\n",
        "print(L3)"
      ]
    },
    {
      "cell_type": "markdown",
      "metadata": {
        "id": "dVGK8Nvt0EXz"
      },
      "source": [
        "On peut utiliser la fonction [``list()``](https://docs.python.org/3/library/functions.html#func-list) pour créer une liste a partir d'autres séquences ou objets."
      ]
    },
    {
      "cell_type": "code",
      "execution_count": null,
      "metadata": {
        "id": "pGtF7fFj0EXz"
      },
      "outputs": [],
      "source": [
        "a = list()\n",
        "b = list('bzzzzzt')\n",
        "print(a)\n",
        "print(b)"
      ]
    },
    {
      "cell_type": "markdown",
      "metadata": {
        "id": "yRuSVFFs0EXz"
      },
      "source": [
        "On accède aux éléments d'une liste grâce à un indice. Le premier élément est **indicé 0.**"
      ]
    },
    {
      "cell_type": "code",
      "execution_count": null,
      "metadata": {
        "id": "tPldAyb50EX0"
      },
      "outputs": [],
      "source": [
        "print(L[0])\n",
        "print(L[4])"
      ]
    },
    {
      "cell_type": "markdown",
      "metadata": {
        "id": "Y5x5Wku50EX0"
      },
      "source": [
        "Un dépassement d'indice produit une erreur :"
      ]
    },
    {
      "cell_type": "code",
      "execution_count": null,
      "metadata": {
        "id": "6kwv_gjE0EX0"
      },
      "outputs": [],
      "source": [
        "# Cette cellule génère une erreur\n",
        "print(L[10])"
      ]
    },
    {
      "cell_type": "markdown",
      "metadata": {
        "id": "_PSr_yBc0EX0"
      },
      "source": [
        "Les listes sont dites *mutables* : je peux modifier la séquence de ces éléments."
      ]
    },
    {
      "cell_type": "markdown",
      "metadata": {
        "id": "Q2Jrq3Ch0EX1"
      },
      "source": [
        "Je remplace le deuxième élément :"
      ]
    },
    {
      "cell_type": "code",
      "execution_count": null,
      "metadata": {
        "id": "bLN3nVew0EX1"
      },
      "outputs": [],
      "source": [
        "L[1] = 'tomatoes'\n",
        "print(L)\n",
        "L[3] = 9\n",
        "print(L)"
      ]
    },
    {
      "cell_type": "markdown",
      "metadata": {
        "id": "u-TtUtcA0EX1"
      },
      "source": [
        "### Méthodes associées aux listes\n",
        "\n",
        "#### Méthodes ne modifiant pas la liste\n",
        "\n",
        "- La longueur d'une liste est donnée par fonction [``len()``](https://docs.python.org/3/library/functions.html#len)\n",
        "- ``L.index(elem)``: renvoie l'indice de l'élément ``elem`` (le 1er rencontré)\n",
        "\n",
        "#### Méthodes modifiant la liste\n",
        "- ``L.append()`` : ajouter un élément à la fin\n",
        "- ``L.pop()`` : renvoie le dernier élément et le retire de la liste\n",
        "- ``L.sort()`` : trier\n",
        "- ``L.reverse()`` : inverser\n",
        "\n",
        "Plus d'infos [ici](https://docs.python.org/3/library/stdtypes.html#typesseq-mutable)."
      ]
    },
    {
      "cell_type": "code",
      "execution_count": null,
      "metadata": {
        "id": "u5mcH50o0EX1"
      },
      "outputs": [],
      "source": [
        "L = ['egg', 'spam', 'spam', 'spam', 'bacon']\n",
        "print('len() renvoie:', len(L))\n",
        "L.append('spam') # Ne renvoie pas de valeur\n",
        "print('Après append():', L)\n",
        "print('pop() renvoie:', L.pop())\n",
        "print('Après pop():', L)\n",
        "L.reverse() # Ne renvoie pas de valeur\n",
        "print('Après reverse():', L)\n",
        "print('index() renvoie:', L.index('egg'))\n",
        "L.remove('spam') # Ne renvoie pas de valeur\n",
        "print('Après remove:', L)"
      ]
    },
    {
      "cell_type": "markdown",
      "metadata": {
        "id": "NzzBsXVS0EX2"
      },
      "source": [
        "Pour obtenir la liste des méthodes associées aux listes, on peut utiliser la fonction interne [``help()``](https://docs.python.org/3/library/functions.html#help) :"
      ]
    },
    {
      "cell_type": "code",
      "execution_count": null,
      "metadata": {
        "id": "lxUM2A2c0EX2"
      },
      "outputs": [],
      "source": [
        "help(list) # ou aussi help([])"
      ]
    },
    {
      "cell_type": "markdown",
      "metadata": {
        "id": "sco5WkBc0EX2"
      },
      "source": [
        "On peut créer facilement des listes répétitives grâce a l'opération de multiplication."
      ]
    },
    {
      "cell_type": "code",
      "execution_count": null,
      "metadata": {
        "id": "Nu8ylh_w0EX3"
      },
      "outputs": [],
      "source": [
        "a = ['a', 1] * 5\n",
        "print(a)"
      ]
    },
    {
      "cell_type": "markdown",
      "metadata": {
        "id": "MuV6uOnx0EX3"
      },
      "source": [
        "Mais on ne peut pas 'diviser' une liste."
      ]
    },
    {
      "cell_type": "code",
      "execution_count": null,
      "metadata": {
        "id": "zCQLCseC0EX3"
      },
      "outputs": [],
      "source": [
        "# Cette cellule génère une erreur\n",
        "a = [1, 2, 3, 4]\n",
        "print(a / 2)"
      ]
    },
    {
      "cell_type": "markdown",
      "metadata": {
        "id": "Bmk4vMVN0EX4"
      },
      "source": [
        "> **Exercice :** Manipulez la liste ``L`` ci-dessous avec les méthodes associées aux listes."
      ]
    },
    {
      "cell_type": "code",
      "execution_count": null,
      "metadata": {
        "id": "u9udt2v90EX4"
      },
      "outputs": [],
      "source": [
        "L = ['egg', 'spam', 'spam', 'spam', 'bacon']\n",
        "# Votre code ci-dessous"
      ]
    },
    {
      "cell_type": "markdown",
      "metadata": {
        "id": "7g1UPFYr0EX4"
      },
      "source": [
        "Vous trouverez la documentation complète sur les listes [ici](https://docs.python.org/3/library/stdtypes.html#mutable-sequence-types)."
      ]
    },
    {
      "cell_type": "markdown",
      "metadata": {
        "id": "ChOd6_Ea0EX4"
      },
      "source": [
        "## Tuples\n",
        "\n",
        "Les Tuples (ou n-uplets en Français) sont des séquences non mutables. On ne peut plus les modifier après leur création.\n",
        "\n",
        "On les initialise ainsi :"
      ]
    },
    {
      "cell_type": "code",
      "execution_count": null,
      "metadata": {
        "id": "y9X8-ycT0EX4"
      },
      "outputs": [],
      "source": [
        "T = ('a', 'b', 'c')\n",
        "print(T, 'est de type', type(T))\n",
        "T = 'a', 'b', 'c'  # une autre façon, en ommettant les parenthèses\n",
        "print(T, 'est de type', type(T))\n",
        "T = tuple(['a', 'b', 'c'])  # à partir d'une liste\n",
        "print(T, 'est de type', type(T))\n",
        "T = ('a')  # ceci n'est pas un tuple\n",
        "print(T, 'est de type', type(T))\n",
        "T = ('a',)  # Syntaxe pour initialiser un tuple contenant un seul élément\n",
        "print(T, 'est de type', type(T))\n",
        "T = 'a',  # Syntaxe alternative pour initialiser un tuple contenant un seul élément. Préférez celle avec parenthèses.\n",
        "print(T, 'est de type', type(T))"
      ]
    },
    {
      "cell_type": "markdown",
      "metadata": {
        "id": "xxrPLaa90EX5"
      },
      "source": [
        "\n",
        "Un tuple est dit *non-mutable* : on ne peut pas en modifier la séquence."
      ]
    },
    {
      "cell_type": "code",
      "execution_count": null,
      "metadata": {
        "id": "RW3hDl100EX5"
      },
      "outputs": [],
      "source": [
        "T = ('a', 'b', 'c')\n",
        "print(T[1]) # On peut utiliser un élément"
      ]
    },
    {
      "cell_type": "code",
      "execution_count": null,
      "metadata": {
        "id": "C1Lpmwe10EX5"
      },
      "outputs": [],
      "source": [
        "# Cette cellule génère une erreur\n",
        "T[1] = 'z'  # mais pas le modifier"
      ]
    },
    {
      "cell_type": "markdown",
      "metadata": {
        "id": "oBpoY6Of0EX6"
      },
      "source": [
        "Intérêt des tuples par rapport aux listes :\n",
        "- plus rapide à parcourir que les listes\n",
        "- non mutables donc 'protégés'\n",
        "- peuvent être utilisés comme clé de dictionnaires (cf. plus loin)"
      ]
    },
    {
      "cell_type": "markdown",
      "metadata": {
        "id": "NTMR3Jve0EX6"
      },
      "source": [
        "On peut créer des tuples a partir d'autres séquences ou objets grâce à la fonction [``tuple()``](https://docs.python.org/3/library/functions.html#func-tuple)."
      ]
    },
    {
      "cell_type": "code",
      "execution_count": null,
      "metadata": {
        "id": "j3XdlQ_n0EX6"
      },
      "outputs": [],
      "source": [
        "a = [1, 2, 3, 'toto']\n",
        "print(type(a), a)\n",
        "b = tuple(a)\n",
        "print(type(b), b)\n",
        "a = 'azerty'\n",
        "print(type(a), a)\n",
        "b = tuple(a)\n",
        "print(type(b), b)"
      ]
    },
    {
      "cell_type": "markdown",
      "metadata": {
        "id": "pyLrKJzt0EX6"
      },
      "source": [
        "### Manipulation des tuples\n",
        "\n",
        "Construire d'autres tuples par concaténation et multiplication"
      ]
    },
    {
      "cell_type": "code",
      "execution_count": null,
      "metadata": {
        "id": "Sz4yPZBO0EX7"
      },
      "outputs": [],
      "source": [
        "T1 = 'a', 'b', 'c'\n",
        "print('T1 =', T1)\n",
        "T2 = 'd', 'e'\n",
        "print('T2 =', T2)\n",
        "print('T1 + T2 =', T1 + T2)\n",
        "print('T2 * 3 =', T2 * 3)"
      ]
    },
    {
      "cell_type": "markdown",
      "metadata": {
        "id": "QFOJZp300EX7"
      },
      "source": [
        "### Note :\n",
        "\n",
        "Etant *non-mutable* l'objet tuple ne peut pas être modifié. Toutefois, s'il est constitué d'éléments mutables, alors ces éléments-là peuvent être modifiés.\n",
        "\n",
        "Illustration avec un tuple dont un des éléments est une liste :"
      ]
    },
    {
      "cell_type": "code",
      "execution_count": null,
      "metadata": {
        "id": "B0ljgfnn0EX7"
      },
      "outputs": [],
      "source": [
        "T = ('a', ['b', 'c']) # le deuxième élément est une liste donc il est mutable\n",
        "print('T =', T)\n",
        "L = T[1]\n",
        "print('L =', L)\n",
        "L[0] = 'e'\n",
        "print('L =', L)\n",
        "print('T =', T)"
      ]
    },
    {
      "cell_type": "code",
      "execution_count": null,
      "metadata": {
        "id": "wjP3Wy2x0EX7"
      },
      "outputs": [],
      "source": [
        "# Ici on fait exactement la même chose...\n",
        "T = ('a', ['b', 'c'])\n",
        "print('T =', T)\n",
        "T[1][0] = 'z'\n",
        "print('T après =', T)"
      ]
    },
    {
      "cell_type": "code",
      "execution_count": null,
      "metadata": {
        "id": "cdZ8CULI0EX8"
      },
      "outputs": [],
      "source": [
        "# Cette cellule génère une erreur\n",
        "T[0] = 'A'  # Ici, on essaye de modifier le tuple lui même..."
      ]
    },
    {
      "cell_type": "markdown",
      "metadata": {
        "id": "Mlx76y9v0EX8"
      },
      "source": [
        "## Le slicing de séquences en Python\n",
        "\n",
        "- Cela consiste à extraire une sous-séquence à partir d'une séquence.\n",
        "- Le slicing fonctionne de manière similaire aux intervalles mathématiques : ``[début:fin[``\n",
        "- La borne de fin ne fait pas partie de l'intervalle sélectionné.\n",
        "- La syntaxe générale est ``L[i:j:k]``, où :\n",
        "    - ``i`` = indice de début\n",
        "    - ``j`` = indice de fin, le premier élément qui n'est pas sélectionné\n",
        "    - ``k`` = le \"pas\" ou intervalle (s'il est omis alors il vaut ``1``)\n",
        "- La sous-liste sera donc composée de tous les éléments de l’indice ``i`` jusqu’à l’indice ``j-1``, par pas de ``k``.\n",
        "- La sous-liste est un nouvel objet.\n",
        "\n",
        "Dans le sens normal (le pas ``k`` est positif)\n",
        "\n",
        "- Si ``i`` est omis alors il vaut ``0``\n",
        "- Si ``j`` est omis alors il vaut ``len(L)``\n",
        "\n",
        "Dans le sens inverse (le pas ``k`` est négatif)\n",
        "\n",
        "- Si ``i`` est omis alors il vaut ``-1``\n",
        "- Si ``j`` est omis alors il vaut ``-len(L)-1``"
      ]
    },
    {
      "cell_type": "markdown",
      "metadata": {
        "id": "S9ym3Qey0EX8"
      },
      "source": [
        "Illustrons ça en créant une liste à partir d'une chaîne de caractères.\n",
        "\n",
        "La fonction [``split()``](https://docs.python.org/3/library/stdtypes.html#str.split) découpe une chaîne de caractères en morceaux, par défaut en 'mots'."
      ]
    },
    {
      "cell_type": "code",
      "execution_count": null,
      "metadata": {
        "scrolled": false,
        "id": "SAOVAjQl0EX9"
      },
      "outputs": [],
      "source": [
        "L = 'Dans le Python tout est bon'.split()\n",
        "print(L)"
      ]
    },
    {
      "cell_type": "markdown",
      "metadata": {
        "id": "gQfSkaoS0EX9"
      },
      "source": [
        "Pour commencer, on extrait de la liste ``L`` un nouvel objet liste qui contient tous les éléments de ``L`` <=> copie de liste"
      ]
    },
    {
      "cell_type": "code",
      "execution_count": null,
      "metadata": {
        "id": "1fKtmfjO0EX9"
      },
      "outputs": [],
      "source": [
        "print(L[0:len(L):1]) # Cette notation est inutilement lourde car :\n",
        "print(L[::])         # i = 0, j=len(L) et k=1 donc i, j et k peuvent être omis\n",
        "print(L[:])          # on peut même ommettre le 2ème \":\""
      ]
    },
    {
      "cell_type": "markdown",
      "metadata": {
        "id": "OTZ_pYKd0EX9"
      },
      "source": [
        "On extrait une sous-liste qui ne contient que les 3 premiers éléments :"
      ]
    },
    {
      "cell_type": "code",
      "execution_count": null,
      "metadata": {
        "id": "PShpdvdl0EX-"
      },
      "outputs": [],
      "source": [
        "print(L[0:3:1])  # Notation complète\n",
        "print(L[:3:1])  # Le premier indice vaut i=0, donc on peut l'omettre\n",
        "print(L[:3])  # Le pas de slicing vaut 1, donc on peut l'omettre, ainsi que le \":\""
      ]
    },
    {
      "cell_type": "markdown",
      "metadata": {
        "id": "ZtreLuse0EX-"
      },
      "source": [
        "J'extrais une sous-liste qui exclut les trois premiers éléments :"
      ]
    },
    {
      "cell_type": "code",
      "execution_count": null,
      "metadata": {
        "id": "AVkHLIP-0EX-"
      },
      "outputs": [],
      "source": [
        "print(L[3:len(L):1])  # Cette notation est inutilement lourde car :\n",
        "print(L[3:])          # j et k peuvent être omis, ainsi que le \":\""
      ]
    },
    {
      "cell_type": "markdown",
      "metadata": {
        "id": "Z-vgtELX0EX-"
      },
      "source": [
        "Les indices peuvent être négatifs, ce qui permet traiter les derniers éléments :"
      ]
    },
    {
      "cell_type": "code",
      "execution_count": null,
      "metadata": {
        "id": "JkO8IwGZ0EX-"
      },
      "outputs": [],
      "source": [
        "# Je veux exclure le dernier élément :\n",
        "print(L[0:-1:1])  # Notation complète\n",
        "print(L[:-1:1])  # Le premier indice vaut i=0, donc on peut l'omettre\n",
        "print(L[:-1])  # Le pas de slicing vaut 1, donc on peut l'omettre"
      ]
    },
    {
      "cell_type": "markdown",
      "metadata": {
        "id": "LYATNTTO0EX_"
      },
      "source": [
        "On ne garde que les deux derniers éléments"
      ]
    },
    {
      "cell_type": "code",
      "execution_count": null,
      "metadata": {
        "id": "mS4uOXKm0EX_"
      },
      "outputs": [],
      "source": [
        "print(L[-2:])"
      ]
    },
    {
      "cell_type": "markdown",
      "metadata": {
        "id": "8T6QPUGN0EX_"
      },
      "source": [
        "### Note :\n",
        "\n",
        "``L[1]`` n'est pas équivalent à ``L[1:2]``, ni à ``L[1:]``, ni à ``L[:1]``.\n",
        "\n",
        "Illustration :"
      ]
    },
    {
      "cell_type": "code",
      "execution_count": null,
      "metadata": {
        "id": "2D9ygRuA0EX_"
      },
      "outputs": [],
      "source": [
        "a = L[1]\n",
        "print(type(a), a) # Je récupère le deuxième élément de la liste\n",
        "a = L[1:2]\n",
        "print(type(a), a) # Je récupère une liste composée du seul élément L[1]\n",
        "a = L[1:]\n",
        "print(type(a), a) # Je récupère une liste\n",
        "a = L[:1]\n",
        "print(type(a), a) # Je récupère une liste"
      ]
    },
    {
      "cell_type": "markdown",
      "metadata": {
        "id": "CL3qG8HK0EYA"
      },
      "source": [
        "> **Exercice :** Retourner une liste composée des éléments de ``L`` *en ordre inverse* **avec une opération de slicing**. Toute utilisation de [``[].reverse()``](https://docs.python.org/3/library/stdtypes.html#mutable-sequence-types) ou [``reversed()``](https://docs.python.org/3/library/functions.html#reversed) est interdite."
      ]
    },
    {
      "cell_type": "code",
      "execution_count": null,
      "metadata": {
        "id": "WkCpMWKQ0EYA"
      },
      "outputs": [],
      "source": [
        "L = 'Dans le Python tout est bon'.split()\n",
        "print(L)\n",
        "# <- votre code ici"
      ]
    },
    {
      "cell_type": "markdown",
      "metadata": {
        "id": "ARbAAt5I0EYA"
      },
      "source": [
        "Solution : [exos/reverse.py](http://localhost:8888/edit/exos/reverse.py)"
      ]
    },
    {
      "cell_type": "markdown",
      "metadata": {
        "id": "ezb3JGN70EYB"
      },
      "source": [
        "Le slicing peut être utilisé pour **modifier** une séquence **mutable**, gâce à l'opération d'assignation."
      ]
    },
    {
      "cell_type": "code",
      "execution_count": null,
      "metadata": {
        "id": "0Ao78UvK0EYB"
      },
      "outputs": [],
      "source": [
        "L = 'Dans le Python tout est bon'.split()\n",
        "print(L)\n",
        "L[2:4] = ['nouvelles', 'valeurs', 'et encore plus...', 1, 2, 3]\n",
        "print(L)"
      ]
    },
    {
      "cell_type": "markdown",
      "metadata": {
        "id": "iY1Wg_JV0EYB"
      },
      "source": [
        "Le slicing peut être utilisé sur des chaînes de caractères."
      ]
    },
    {
      "cell_type": "code",
      "execution_count": null,
      "metadata": {
        "id": "57qwbwof0EYB"
      },
      "outputs": [],
      "source": [
        "alphabet = 'abcdefghijklmnopqrstuvwxyz'\n",
        "print(alphabet[:4], alphabet[-4:], alphabet[0:12:3])"
      ]
    },
    {
      "cell_type": "markdown",
      "metadata": {
        "id": "QLUdEDLs0EYB"
      },
      "source": [
        "> **Exercice**:\n",
        "> 1. Découpez l'alphabet en deux parties égales\n",
        "> 2. Prenez une lettre sur deux"
      ]
    },
    {
      "cell_type": "code",
      "execution_count": null,
      "metadata": {
        "id": "k2HCAQGU0EYC"
      },
      "outputs": [],
      "source": [
        "# Votre code ici"
      ]
    },
    {
      "cell_type": "markdown",
      "metadata": {
        "id": "vEV6M2C_0EYC"
      },
      "source": [
        "Solution : [exos/alphabet.py](http://localhost:8888/edit/exos/alphabet.py)"
      ]
    },
    {
      "cell_type": "markdown",
      "metadata": {
        "id": "qlfNaAIS0EYC"
      },
      "source": [
        "# Chaînes de caractères, le retour\n",
        "\n",
        "Les chaînes de caractères sont considérées comme des séquences non mutables et l'on peut les manipuler comme telles."
      ]
    },
    {
      "cell_type": "code",
      "execution_count": null,
      "metadata": {
        "colab": {
          "base_uri": "https://localhost:8080/",
          "height": 200
        },
        "id": "f-cg0wLu0EYC",
        "outputId": "8141ac49-2ddf-48b1-c27b-7a6b6111063b"
      },
      "outputs": [
        {
          "output_type": "error",
          "ename": "TypeError",
          "evalue": "ignored",
          "traceback": [
            "\u001b[0;31m---------------------------------------------------------------------------\u001b[0m",
            "\u001b[0;31mTypeError\u001b[0m                                 Traceback (most recent call last)",
            "\u001b[0;32m<ipython-input-1-8ed2c83f12cc>\u001b[0m in \u001b[0;36m<module>\u001b[0;34m\u001b[0m\n\u001b[1;32m      1\u001b[0m \u001b[0;31m# Cette cellule génère une erreur\u001b[0m\u001b[0;34m\u001b[0m\u001b[0;34m\u001b[0m\u001b[0;34m\u001b[0m\u001b[0m\n\u001b[1;32m      2\u001b[0m \u001b[0mnon_mutable\u001b[0m \u001b[0;34m=\u001b[0m \u001b[0;34m'abcdefgh'\u001b[0m\u001b[0;34m\u001b[0m\u001b[0;34m\u001b[0m\u001b[0m\n\u001b[0;32m----> 3\u001b[0;31m \u001b[0mnon_mutable\u001b[0m\u001b[0;34m[\u001b[0m\u001b[0;36m3\u001b[0m\u001b[0;34m]\u001b[0m \u001b[0;34m=\u001b[0m \u001b[0;34m'D'\u001b[0m\u001b[0;34m\u001b[0m\u001b[0;34m\u001b[0m\u001b[0m\n\u001b[0m",
            "\u001b[0;31mTypeError\u001b[0m: 'str' object does not support item assignment"
          ]
        }
      ],
      "source": [
        "# Cette cellule génère une erreur\n",
        "non_mutable = 'abcdefgh'\n",
        "non_mutable[3] = 'D'"
      ]
    },
    {
      "cell_type": "markdown",
      "metadata": {
        "id": "fl72aJTE0EYD"
      },
      "source": [
        "Il faut construire une nouvelle chaîne de caractère. En concaténant des morceaux (slices) de la chaîne originale:"
      ]
    },
    {
      "cell_type": "code",
      "execution_count": null,
      "metadata": {
        "colab": {
          "base_uri": "https://localhost:8080/"
        },
        "id": "2yPbT1Ro0EYD",
        "outputId": "a08856c7-ae01-4c22-c2dc-e39bdfc436b8"
      },
      "outputs": [
        {
          "output_type": "stream",
          "name": "stdout",
          "text": [
            "abcDefgh\n"
          ]
        }
      ],
      "source": [
        "nouvelle_chaine = non_mutable[:3] + 'D' + non_mutable[4:]\n",
        "print(nouvelle_chaine)"
      ]
    },
    {
      "cell_type": "markdown",
      "metadata": {
        "id": "trOdS6go0EYD"
      },
      "source": [
        "Ou alors en utilisant une transformation en liste, puis a nouveau en chaîne:"
      ]
    },
    {
      "cell_type": "code",
      "execution_count": null,
      "metadata": {
        "colab": {
          "base_uri": "https://localhost:8080/"
        },
        "id": "wMiDaIm80EYD",
        "outputId": "1a4191dc-aad1-4f13-9c0d-1fac9a9a337a"
      },
      "outputs": [
        {
          "output_type": "stream",
          "name": "stdout",
          "text": [
            "abcDefgh\n"
          ]
        }
      ],
      "source": [
        "a = list(non_mutable)\n",
        "a[3] = 'D'\n",
        "print(''.join(a))"
      ]
    },
    {
      "cell_type": "markdown",
      "metadata": {
        "id": "_oRoQVUT0EYE"
      },
      "source": [
        "On peut savoir si une chaîne se trouve dans une autre"
      ]
    },
    {
      "cell_type": "code",
      "execution_count": null,
      "metadata": {
        "id": "U3oCRPK40EYE"
      },
      "outputs": [],
      "source": [
        "print('123' in 'azerty_123_uiop')\n",
        "print('AZE' in 'azerty_123_uiop')\n",
        "print('aze' in 'azerty_123_uiop')"
      ]
    },
    {
      "cell_type": "markdown",
      "metadata": {
        "id": "XbalFMIM0EYE"
      },
      "source": [
        "La longueur d'une chaîne s'obtient avec [``len()``](https://docs.python.org/3/library/functions.html#len)."
      ]
    },
    {
      "cell_type": "code",
      "execution_count": null,
      "metadata": {
        "id": "wi92eKz70EYE"
      },
      "outputs": [],
      "source": [
        "print(len(non_mutable))"
      ]
    },
    {
      "cell_type": "markdown",
      "metadata": {
        "id": "qkeOWYLT0EYF"
      },
      "source": [
        "> **Exercice**, dans la cellule ci-dessous:\n",
        "> 1. **Insérez** le caractère '#' au milieu de la chaîne donnée.\n",
        "> 2. Idem mais **coupez** la chaine en 3 parties, et insérez le caractère '@' entre chacune d'elles.\n",
        "> 3. **Insérez** le caractère '|' entre chaque caractère de la chaîne."
      ]
    },
    {
      "cell_type": "code",
      "execution_count": null,
      "metadata": {
        "id": "ovDpg5zO0EYF"
      },
      "outputs": [],
      "source": [
        "chaine_donnee = 'azertyuioppoiuytreza'\n",
        "# Votre code ici"
      ]
    },
    {
      "cell_type": "markdown",
      "metadata": {
        "id": "qolSgXNZ0EYF"
      },
      "source": [
        "# Les dictionnaires\n",
        "\n",
        "Les listes associatives sont des conteneurs où les objets ne sont **pas** ordonnés ni accessibles par un indice mais sont associés à une clé d'accès.\n",
        "\n",
        "L'accès aux éléments se fait comme pour les listes ou tuples, avec les ``[]``, mais vous pouvez utiliser (presque) n'importe quelle valeur comme clé.\n",
        "\n",
        "    dico = {<clé1>: <valeur1>[, <clé2>: <valeur2>]...}\n",
        "\n",
        "Les clés doivent être des objets non mutables. Les listes ne peuvent pas servir de clés alors que les tuples le peuvent.\n",
        "\n",
        "Dans ``dico``, on accède à ``valeur1`` avec la syntaxe ``dico[clé1]``."
      ]
    },
    {
      "cell_type": "markdown",
      "metadata": {
        "id": "Hx9kI1Ul0EYG"
      },
      "source": [
        "### Un exemple"
      ]
    },
    {
      "cell_type": "code",
      "execution_count": null,
      "metadata": {
        "colab": {
          "base_uri": "https://localhost:8080/"
        },
        "id": "ZaamIuMT0EYG",
        "outputId": "fc51f37f-696b-4881-b5c3-adf0d56aa00e"
      },
      "outputs": [
        {
          "output_type": "stream",
          "name": "stdout",
          "text": [
            "True\n",
            "chat est un animal: True\n"
          ]
        }
      ],
      "source": [
        "dic_animaux = {'ane': True, 'arbre': False, 'chat': True, 'lune': False, 'humain': True}\n",
        "cle = 'chat'\n",
        "valeur = dic_animaux[cle]\n",
        "print(valeur)\n",
        "print(f'{cle} est un animal: {valeur}')"
      ]
    },
    {
      "cell_type": "markdown",
      "metadata": {
        "id": "3wZwnAnu0EYG"
      },
      "source": [
        "> **Exercice** : essayez de savoir si un arbre est un animal"
      ]
    },
    {
      "cell_type": "markdown",
      "metadata": {
        "id": "Ze3yH7io0EYH"
      },
      "source": [
        "Les différentes manières de créer des dictionnaires:"
      ]
    },
    {
      "cell_type": "code",
      "execution_count": null,
      "metadata": {
        "id": "U4aS4Bzh0EYH"
      },
      "outputs": [],
      "source": [
        "a = {'un': 1, 'deux': 2, 'trois': 3}  # Les accolades comme syntaxe\n",
        "b = dict(un=1, deux=2, trois=3)  # La méthode dict()\n",
        "c = dict(zip(['un', 'deux', 'trois'], [1, 2, 3]))  # On \"zippe\" deux listes\n",
        "d = dict([('deux', 2), ('un', 1), ('trois', 3)])  # On transforme une liste de 2-tuples\n",
        "e = dict({'trois': 3, 'un': 1, 'deux': 2})\n",
        "a == b == c == d == e"
      ]
    },
    {
      "cell_type": "markdown",
      "metadata": {
        "id": "nYlHAZ490EYH"
      },
      "source": [
        "La fonction interne [[``dict()``](https://docs.python.org/3/library/functions.html#func-dict) permet de créer des dictionnaires de diverses manières.\n",
        "\n",
        "Accéder à un élément qui n'est pas dans le dictionnaire génère une erreur. Il existe la méthode [``{}.get()``](https://docs.python.org/3/library/stdtypes.html#dict.get) ou [l'opérateur ``in``](https://docs.python.org/3/library/stdtypes.html#mapping-types-dict) qui permettent de ne pas rencontrer ce problème."
      ]
    },
    {
      "cell_type": "code",
      "execution_count": null,
      "metadata": {
        "id": "SSFrHwmQ0EYH"
      },
      "outputs": [],
      "source": [
        "# Cette cellule génère une erreur\n",
        "err = a['quatre']"
      ]
    },
    {
      "cell_type": "markdown",
      "metadata": {
        "id": "re7wD2ZQ0EYI"
      },
      "source": [
        "Ici on utilise ``.get()`` et cela ne remonte pas d'erreur."
      ]
    },
    {
      "cell_type": "code",
      "execution_count": null,
      "metadata": {
        "id": "CFS341W00EYI"
      },
      "outputs": [],
      "source": [
        "print(a.get('quatre'))    # La valeur par défaut est 'None' lorsque .get() ne trouve pas l'élément\n",
        "print(a.get('quatre', 5)) # On peut spécifier une autre valeur par défaut"
      ]
    },
    {
      "cell_type": "markdown",
      "metadata": {
        "id": "GcQHaGt90EYI"
      },
      "source": [
        "### Un autre exemple"
      ]
    },
    {
      "cell_type": "code",
      "execution_count": null,
      "metadata": {
        "colab": {
          "base_uri": "https://localhost:8080/"
        },
        "id": "VvsiPNJQ0EYI",
        "outputId": "e93d5c08-06fc-41e0-a27d-aee6aed4565c"
      },
      "outputs": [
        {
          "output_type": "stream",
          "name": "stdout",
          "text": [
            "Il y a (28, 29) jours dans votre mois de naissance\n"
          ]
        }
      ],
      "source": [
        "tup_mois = ('jan', 'feb', 'mar', 'apr', 'mai', 'jun', 'jul', 'aug', 'sep', 'oct', 'nov', 'dec')\n",
        "tup_long = (31, (28, 29), 31, 30, 31, 30, 31, 31, 30, 31, 30, 31)\n",
        "dic_mois = dict(zip(tup_mois, tup_long))\n",
        "mois_naissance = 'feb'\n",
        "print(f'Il y a {dic_mois[mois_naissance]} jours dans votre mois de naissance')"
      ]
    },
    {
      "cell_type": "markdown",
      "metadata": {
        "id": "K7UdpIuq0EYJ"
      },
      "source": [
        "> **Exercice**:\n",
        ">\n",
        "> 1. Modifiez la cellule précédente pour y changer mois_naissance (les 3 premiers caractères de votre mois de naissance, en anglais). Ré-exécutez la cellule et vérifiez la réponse.\n",
        "> 2. Utilisez ``input('En quel mois êtes-vous né(e) ? ')`` pour initialiser ``mois_naissance`` et constatez le gain de qualité en IHM (Interface Homme Machine, ergonomie)."
      ]
    },
    {
      "cell_type": "markdown",
      "metadata": {
        "id": "lDrnvImu0EYO"
      },
      "source": [
        "Les dictionnaires sont mutables."
      ]
    },
    {
      "cell_type": "code",
      "execution_count": null,
      "metadata": {
        "id": "TOfQWnFE0EYO"
      },
      "outputs": [],
      "source": [
        "ages = {'albert': 62, 'bob': 34, 'charlie': 1, 'daphne': 67}\n",
        "print(ages)\n",
        "# C'est l'anniversaire de charlie, il a un an de plus...\n",
        "ages['charlie'] += 1\n",
        "print(ages)\n",
        "print('Albert a %d ans.' % ages['albert'])\n",
        "# Bob est parti, enlevons-le\n",
        "del ages['bob']\n",
        "print(ages)"
      ]
    },
    {
      "cell_type": "markdown",
      "metadata": {
        "id": "MAHnMOZF0EYO"
      },
      "source": [
        "- Savoir si une clé est présente dans un dictionnaire est une opération rapide. On utilise, comme pour les séquences, l'opérateur ``in``.\n",
        "- La fonction interne ``len()`` est utilisable pour savoir combien d'objets sont référencés dans le dictionnaire."
      ]
    },
    {
      "cell_type": "code",
      "execution_count": null,
      "metadata": {
        "id": "TeemBEQB0EYO"
      },
      "outputs": [],
      "source": [
        "ages = {'albert': 62, 'bob': 34, 'charlie': 1, 'daphne': 67}\n",
        "print('Charlie est dedans ?', 'charlie' in ages)\n",
        "print('Zoé est dedans ?', 'zoé' in ages)\n",
        "print('Bob est dedans ?', 'bob' in ages)\n",
        "print('Il y a %d personnes.' % len(ages))\n",
        "# Bob est parti, enlevons-le\n",
        "del ages['bob']\n",
        "print('Bob est dedans ?', 'bob' in ages)\n",
        "print('Il y a %d personnes.' % len(ages))"
      ]
    },
    {
      "cell_type": "markdown",
      "metadata": {
        "id": "xx7ktCYs0EYP"
      },
      "source": [
        "On peut itérer sur les clés ou les objets référencés, ou vider un dictionnaire, en comparer deux, etc.\n",
        "\n",
        "Pour plus d'informations sur les dictionnaires, voir [ici](https://docs.python.org/3/library/stdtypes.html#mapping-types-dict)."
      ]
    },
    {
      "cell_type": "markdown",
      "metadata": {
        "id": "Nm0YO5Xm0EYP"
      },
      "source": [
        "> **Exercice** :\n",
        ">\n",
        "> 1. Créez un dictionnaire qui va traduire des chiffres (de 0 à 9) écrits en toutes lettres entre deux langues\n",
        ">    Par exemple :\n",
        ">    ``trad_num['un'] -> 'one'``\n",
        "> 2. Modifiez ce dictionnaire, pour qu'il fonctionne dans les deux sens de traduction (Fr -> En et En -> Fr)\n",
        "> 3. Modifiez ce dictionnaire, pour qu'il fonctionne aussi avec les chiffres sous forme d'entiers\n",
        ">    Par exemple :\n",
        ">    ``trad_num[1] -> 'un'``"
      ]
    },
    {
      "cell_type": "code",
      "execution_count": null,
      "metadata": {
        "id": "fz6twB-q0EYP"
      },
      "outputs": [],
      "source": [
        "# Votre code ici"
      ]
    }
  ],
  "metadata": {
    "anaconda-cloud": {},
    "kernelspec": {
      "display_name": "Python 3",
      "language": "python",
      "name": "python3"
    },
    "language_info": {
      "codemirror_mode": {
        "name": "ipython",
        "version": 3
      },
      "file_extension": ".py",
      "mimetype": "text/x-python",
      "name": "python",
      "nbconvert_exporter": "python",
      "pygments_lexer": "ipython3",
      "version": "3.6.2"
    },
    "colab": {
      "provenance": []
    }
  },
  "nbformat": 4,
  "nbformat_minor": 0
}