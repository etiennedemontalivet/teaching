{
  "nbformat": 4,
  "nbformat_minor": 0,
  "metadata": {
    "colab": {
      "provenance": [],
      "authorship_tag": "ABX9TyNaLzVg6qfUOojIjKQz+/v1",
      "include_colab_link": true
    },
    "kernelspec": {
      "name": "python3",
      "display_name": "Python 3"
    },
    "language_info": {
      "name": "python"
    }
  },
  "cells": [
    {
      "cell_type": "markdown",
      "metadata": {
        "id": "view-in-github",
        "colab_type": "text"
      },
      "source": [
        "<a href=\"https://colab.research.google.com/github/etiennedemontalivet/teaching/blob/master/colab/04_Machine_Learning_Basics.ipynb\" target=\"_parent\"><img src=\"https://colab.research.google.com/assets/colab-badge.svg\" alt=\"Open In Colab\"/></a>"
      ]
    },
    {
      "cell_type": "markdown",
      "metadata": {
        "id": "n_koPeM_CAmW"
      },
      "source": [
        "# Basics of Machine Learning with sklearn\n",
        "***"
      ]
    },
    {
      "cell_type": "code",
      "execution_count": null,
      "metadata": {
        "id": "x9nQ2DWxLzc_"
      },
      "outputs": [],
      "source": [
        "import pandas as pd\n",
        "import matplotlib.pyplot as plt\n",
        "import numpy as np\n",
        "import seaborn as sns\n",
        "\n",
        "from sklearn.model_selection import train_test_split\n",
        "from sklearn.preprocessing import LabelEncoder\n",
        "from sklearn.tree import DecisionTreeClassifier\n",
        "from sklearn.ensemble import RandomForestClassifier\n",
        "from sklearn.metrics import ConfusionMatrixDisplay\n",
        "from sklearn.model_selection import cross_val_score"
      ]
    },
    {
      "cell_type": "markdown",
      "source": [
        "## Load and explore Data : IRIS dataset "
      ],
      "metadata": {
        "id": "fDZ9ozp6g8mL"
      }
    },
    {
      "cell_type": "code",
      "source": [
        "from google.colab import files\n",
        "files.upload();"
      ],
      "metadata": {
        "id": "96TgrbMkjQy2"
      },
      "execution_count": null,
      "outputs": []
    },
    {
      "cell_type": "code",
      "source": [
        "df_iris = pd.read_csv(\"Iris.csv\")"
      ],
      "metadata": {
        "id": "fsniuzN1kH91"
      },
      "execution_count": null,
      "outputs": []
    },
    {
      "cell_type": "code",
      "source": [
        "df_iris"
      ],
      "metadata": {
        "id": "mswQxOcGjS4w"
      },
      "execution_count": null,
      "outputs": []
    },
    {
      "cell_type": "code",
      "source": [
        "df_iris['Species'].value_counts()"
      ],
      "metadata": {
        "id": "Eb6bcAINj3y6"
      },
      "execution_count": null,
      "outputs": []
    },
    {
      "cell_type": "markdown",
      "source": [
        "### Violin plot"
      ],
      "metadata": {
        "id": "zYg3U8MInFMj"
      }
    },
    {
      "cell_type": "code",
      "source": [
        "plt.figure(figsize=(10,5))\n",
        "sns.violinplot(x=\"Species\", y=\"PetalLengthCm\", data=df_iris)\n",
        "plt.show()"
      ],
      "metadata": {
        "id": "x4MTqxMzkbra"
      },
      "execution_count": null,
      "outputs": []
    },
    {
      "cell_type": "code",
      "source": [
        "for col in [c for c in df_iris if \"Cm\" in c]:\n",
        "  plt.figure(figsize=(10,5))\n",
        "  sns.violinplot(x=\"Species\", y=col, data=df_iris)\n",
        "  plt.show()"
      ],
      "metadata": {
        "id": "KYhkAxKenDEK"
      },
      "execution_count": null,
      "outputs": []
    },
    {
      "cell_type": "code",
      "source": [
        "plt.figure(figsize=(10,5))\n",
        "sns.pairplot(df_iris.drop(\"Id\", axis=1), hue=\"Species\", height=3)\n",
        "plt.show()"
      ],
      "metadata": {
        "id": "NKYG-6BSmUWz"
      },
      "execution_count": null,
      "outputs": []
    },
    {
      "cell_type": "markdown",
      "source": [
        "**What do you observe ?**"
      ],
      "metadata": {
        "id": "dBreReHJnlNf"
      }
    },
    {
      "cell_type": "markdown",
      "source": [
        "## Machine Learning"
      ],
      "metadata": {
        "id": "IGK4MKiAmrtv"
      }
    },
    {
      "cell_type": "markdown",
      "source": [
        "### Extract relevant data"
      ],
      "metadata": {
        "id": "8IxGG2F3pKDp"
      }
    },
    {
      "cell_type": "code",
      "source": [
        "# Extract X\n"
      ],
      "metadata": {
        "id": "enPWl0IAntUW"
      },
      "execution_count": null,
      "outputs": []
    },
    {
      "cell_type": "code",
      "source": [
        "# Using LabelEncoder, extract y that must contain only numbers from 0 to 2 \n",
        "# (3 classes)\n"
      ],
      "metadata": {
        "id": "EwT9Jnfzobqy"
      },
      "execution_count": null,
      "outputs": []
    },
    {
      "cell_type": "markdown",
      "source": [
        "### First shot of prediction"
      ],
      "metadata": {
        "id": "iIPeTKFgo5ED"
      }
    },
    {
      "cell_type": "code",
      "source": [
        "# Using train_test_split, create 2 datasets:\n",
        "# X_train, y_train and X_test, y_test\n",
        "# with train/test sizes of 70/30\n",
        "# Use a random_state=42\n"
      ],
      "metadata": {
        "id": "sRokrWZCpQvV"
      },
      "execution_count": null,
      "outputs": []
    },
    {
      "cell_type": "code",
      "source": [
        "# Init a variable clf with a Decision Trees Classifier\n"
      ],
      "metadata": {
        "id": "8Fl9CWFUqBam"
      },
      "execution_count": null,
      "outputs": []
    },
    {
      "cell_type": "code",
      "source": [
        "# Fit the clf with the train dataset\n"
      ],
      "metadata": {
        "id": "XbeHaar5qnU0"
      },
      "execution_count": null,
      "outputs": []
    },
    {
      "cell_type": "code",
      "source": [
        "# predict the output of the test dataset\n",
        "# put the results in a y_pred variable\n"
      ],
      "metadata": {
        "id": "rrPEzUadqpiC"
      },
      "execution_count": null,
      "outputs": []
    },
    {
      "cell_type": "code",
      "source": [
        "# Using ConfusionMatrixDisplay.from_predictions, display the confusion\n",
        "# matrix of the predictions. Use the display_labels parameter and the \n",
        "# le.classes_ attribute to display species\n",
        "\n",
        "# your code here"
      ],
      "metadata": {
        "id": "hJMxl6WNqvkG"
      },
      "execution_count": null,
      "outputs": []
    },
    {
      "cell_type": "markdown",
      "source": [
        "**What do you observe ?**  \n"
      ],
      "metadata": {
        "id": "y_JAumNRq-5V"
      }
    },
    {
      "cell_type": "code",
      "source": [
        "# In a single cell, repeat all the previous steps from train_test_plit to \n",
        "# displaying the confusion matrix WITH a stratifiction applied\n",
        "\n",
        "# your code here"
      ],
      "metadata": {
        "id": "ASoyPtbTs0Qb"
      },
      "execution_count": null,
      "outputs": []
    },
    {
      "cell_type": "code",
      "source": [
        "# In a single cell, repeat all the previous steps from train_test_plit to \n",
        "# displaying the confusion matrix WITH a RandomForestClassifier and see if you \n",
        "# can obtain better results by changing the max_depth parameter\n",
        "\n",
        "# your code here"
      ],
      "metadata": {
        "id": "VCNIqB0Ytruw"
      },
      "execution_count": null,
      "outputs": []
    },
    {
      "cell_type": "code",
      "source": [
        "# Let's use the power of bootstrap and set a max_samples value of 0.7 in the \n",
        "# RandomForestClassifier. Do you get better results ?\n",
        "\n",
        "# your code here"
      ],
      "metadata": {
        "id": "KzlvbJ34u-0Q"
      },
      "execution_count": null,
      "outputs": []
    },
    {
      "cell_type": "markdown",
      "source": [
        "### Cross validation"
      ],
      "metadata": {
        "id": "b3QioDotwlOU"
      }
    },
    {
      "cell_type": "markdown",
      "source": [
        "We tested our method using one test dataset that has been extracted randomly.\n",
        "But to have more robust results, we can apply the preivous pipeline on multiple\n",
        "test datasets that are successively extracted from inital dataset. This is \n",
        "called [cross-validation](https://scikit-learn.org/stable/modules/cross_validation.html#cross-validation-evaluating-estimator-performance). "
      ],
      "metadata": {
        "id": "yFNbK5i0wuS_"
      }
    },
    {
      "cell_type": "code",
      "source": [
        "# Put the results of cross_val_score in a scores variable\n",
        "# Use a DecisionTreeClassifier as estimator\n",
        "\n",
        "# your code here\n",
        "\n",
        "print(f\"scores: \\n  - mean={np.mean(scores)}\\n  - {scores}\")"
      ],
      "metadata": {
        "id": "IrGkMRpjyim-"
      },
      "execution_count": null,
      "outputs": []
    },
    {
      "cell_type": "code",
      "source": [
        "# Put the results of cross_val_score in a scores variable\n",
        "# Use a RandomForestClassifier as estimator\n",
        "\n",
        "# your code here\n",
        "\n",
        "print(f\"scores: \\n  - mean={np.mean(scores)}\\n  - {scores}\")"
      ],
      "metadata": {
        "id": "ZANpI-88zH_Y"
      },
      "execution_count": null,
      "outputs": []
    },
    {
      "cell_type": "markdown",
      "source": [
        "What score is returned ? Find this in sklearn doc"
      ],
      "metadata": {
        "id": "-UbOeG33z2zk"
      }
    }
  ]
}