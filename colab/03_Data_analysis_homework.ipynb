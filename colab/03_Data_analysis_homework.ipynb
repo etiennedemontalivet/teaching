{
  "nbformat": 4,
  "nbformat_minor": 0,
  "metadata": {
    "colab": {
      "provenance": [],
      "collapsed_sections": [
        "7ax1raX2b6Kq"
      ],
      "authorship_tag": "ABX9TyMv3+kf/uEC8sgaW1RQqKCz",
      "include_colab_link": true
    },
    "kernelspec": {
      "name": "python3",
      "display_name": "Python 3"
    },
    "language_info": {
      "name": "python"
    }
  },
  "cells": [
    {
      "cell_type": "markdown",
      "metadata": {
        "id": "view-in-github",
        "colab_type": "text"
      },
      "source": [
        "<a href=\"https://colab.research.google.com/github/etiennedemontalivet/teaching/blob/master/colab/03_Data_analysis_homework.ipynb\" target=\"_parent\"><img src=\"https://colab.research.google.com/assets/colab-badge.svg\" alt=\"Open In Colab\"/></a>"
      ]
    },
    {
      "cell_type": "markdown",
      "source": [
        "# Datasets analysis - homework\n",
        "***"
      ],
      "metadata": {
        "id": "sG7k058obpln"
      }
    },
    {
      "cell_type": "markdown",
      "metadata": {
        "id": "QxA7e5hYXSnL"
      },
      "source": [
        "# Movie Ratings"
      ]
    },
    {
      "cell_type": "markdown",
      "metadata": {
        "id": "ZEgPGZT2buDE"
      },
      "source": [
        "**Questions**   \n",
        "\n",
        "1. What does the distribution of films look like by rating? By primary genre? (hint: use first genre listed)\n",
        "2. What % of films received a Certified Fresh Tomatometer rating? What about Rotten?\n",
        "3. Explore new film releases over time. How has the volume of releases by month trended over time? What year/month were the most new films released?\n",
        "4. Compare average Tomatometer ratings by Studio. Which studios produce the highest rated films, on average? The lowest?\n",
        "5. Compare the Tomatometer ratings against audience ratings. Which films showed the largest discrepancies between audiences and critics?\n",
        "6. Explore the critics concensus rating: what language is used most often?"
      ]
    },
    {
      "cell_type": "markdown",
      "metadata": {
        "id": "7ax1raX2b6Kq"
      },
      "source": [
        "## Get and check data "
      ]
    },
    {
      "cell_type": "code",
      "execution_count": null,
      "metadata": {
        "colab": {
          "background_save": true
        },
        "id": "B-ofU-Zsb_4D"
      },
      "outputs": [],
      "source": [
        "from google.colab import files\n",
        "files.upload();"
      ]
    },
    {
      "cell_type": "code",
      "execution_count": null,
      "metadata": {
        "id": "Vsl7VQudcX19"
      },
      "outputs": [],
      "source": [
        "data = pd.read_csv(\"Rotten Tomatoes Movies.csv\")"
      ]
    },
    {
      "cell_type": "code",
      "source": [
        "data.head()"
      ],
      "metadata": {
        "id": "z7EWRHVYejY7"
      },
      "execution_count": null,
      "outputs": []
    },
    {
      "cell_type": "markdown",
      "source": [
        "## Question 1\n",
        "\n",
        "What does the distribution of films look like by rating? By primary genre ?"
      ],
      "metadata": {
        "id": "Ou0htdDufFyl"
      }
    },
    {
      "cell_type": "markdown",
      "source": [
        "## Question 2\n",
        "\n",
        "What % of films received a Certified Fresh Tomatometer rating? What about Rotten?"
      ],
      "metadata": {
        "id": "nK1Hr_huk9L4"
      }
    },
    {
      "cell_type": "markdown",
      "source": [
        "## Question 3\n",
        "\n",
        "Explore new film releases over time. How has the volume of releases by month trended over time? What year/month were the most new films released?"
      ],
      "metadata": {
        "id": "1HiRuEw_mCJL"
      }
    },
    {
      "cell_type": "markdown",
      "source": [
        "## Question 4\n",
        "\n",
        "Compare average Tomatometer ratings by Studio. Which studios produce the highest rated films, on average? The lowest?"
      ],
      "metadata": {
        "id": "A0qOAoOH0W01"
      }
    },
    {
      "cell_type": "markdown",
      "source": [
        "## Question 5\n",
        "\n",
        "Compare the Tomatometer ratings against audience ratings. Which films showed the largest discrepancies between audiences and critics?"
      ],
      "metadata": {
        "id": "eTCjB_6Q6S6K"
      }
    },
    {
      "cell_type": "markdown",
      "source": [
        "## Question 6\n",
        "\n",
        "Explore the critics concensus rating: what language is used most often?"
      ],
      "metadata": {
        "id": "KfpSdBlu_t8r"
      }
    }
  ]
}