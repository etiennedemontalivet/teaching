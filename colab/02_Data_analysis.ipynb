{
  "nbformat": 4,
  "nbformat_minor": 0,
  "metadata": {
    "colab": {
      "provenance": [],
      "toc_visible": true,
      "authorship_tag": "ABX9TyNf3KZob7GmE73REEthqu7i",
      "include_colab_link": true
    },
    "kernelspec": {
      "name": "python3",
      "display_name": "Python 3"
    },
    "language_info": {
      "name": "python"
    }
  },
  "cells": [
    {
      "cell_type": "markdown",
      "metadata": {
        "id": "view-in-github",
        "colab_type": "text"
      },
      "source": [
        "<a href=\"https://colab.research.google.com/github/etiennedemontalivet/teaching/blob/master/colab/02_Data_analysis.ipynb\" target=\"_parent\"><img src=\"https://colab.research.google.com/assets/colab-badge.svg\" alt=\"Open In Colab\"/></a>"
      ]
    },
    {
      "cell_type": "markdown",
      "metadata": {
        "id": "n_koPeM_CAmW"
      },
      "source": [
        "# Datasets analysis with pandas and plotly\n",
        "***"
      ]
    },
    {
      "cell_type": "markdown",
      "source": [
        "# Space missions"
      ],
      "metadata": {
        "id": "1YqM1NcuN7_M"
      }
    },
    {
      "cell_type": "markdown",
      "metadata": {
        "id": "OGIit-SGDLtk"
      },
      "source": [
        "## Get and check data "
      ]
    },
    {
      "cell_type": "markdown",
      "metadata": {
        "id": "81v61WKTAI4k"
      },
      "source": [
        "Upload the 2 csv files in colab:\n",
        "\n",
        "* *space_missions.csv*\n",
        "* *space_missions_data_dictionary.csv*"
      ]
    },
    {
      "cell_type": "code",
      "execution_count": null,
      "metadata": {
        "id": "Aq7wYghfAWuC"
      },
      "outputs": [],
      "source": [
        "from google.colab import files\n",
        "files.upload();"
      ]
    },
    {
      "cell_type": "code",
      "source": [
        "# Use pandas to read both files space_missions.csv and \n",
        "# space_missions_data_dictionary.csv in two variables data and data_desc\n"
      ],
      "metadata": {
        "id": "77GF2k6nNGud"
      },
      "execution_count": null,
      "outputs": []
    },
    {
      "cell_type": "code",
      "source": [
        "# display data\n",
        "data"
      ],
      "metadata": {
        "id": "DZB8M23FNXCl"
      },
      "execution_count": null,
      "outputs": []
    },
    {
      "cell_type": "code",
      "source": [
        "# display data_desc\n",
        "data_desc"
      ],
      "metadata": {
        "id": "yKGfdEyWNai2"
      },
      "execution_count": null,
      "outputs": []
    },
    {
      "cell_type": "markdown",
      "source": [
        "## Explore data"
      ],
      "metadata": {
        "id": "TeK4fpXON0_d"
      }
    },
    {
      "cell_type": "code",
      "source": [
        "# analyse the description of data (use describe function)\n",
        " "
      ],
      "metadata": {
        "id": "YjJwiGIoN3ej"
      },
      "execution_count": null,
      "outputs": []
    },
    {
      "cell_type": "markdown",
      "source": [
        "## Question 1\n",
        "\n",
        "How have rocket launches trended across time? Has mission success rate increased?"
      ],
      "metadata": {
        "id": "9ZW3pVY-PhNS"
      }
    },
    {
      "cell_type": "code",
      "source": [
        "# Create a dataframe df_year that has:\n",
        "#    - 3 columns: launch, success, failure\n",
        "#    - indexes are the years from 1957 to 2022\n",
        "# Init the dataframe with zeros\n"
      ],
      "metadata": {
        "id": "uL1b2xnTT3Ei"
      },
      "execution_count": null,
      "outputs": []
    },
    {
      "cell_type": "code",
      "source": [
        "# Check the value and counts of MissionStatus columns (use .value_counts())\n"
      ],
      "metadata": {
        "id": "SSXPSZ_TUy7M"
      },
      "execution_count": 2,
      "outputs": []
    },
    {
      "cell_type": "markdown",
      "source": [
        "Let's put all not-successful mission in the same \"failure\" columns"
      ],
      "metadata": {
        "id": "hnV-CujRVSjc"
      }
    },
    {
      "cell_type": "code",
      "source": [
        "# Write a loop over data rows. Extract the year of current row. Increment the\n",
        "# number of launches of the  corresponding year in df_year dataframe. Increment\n",
        "# the number of success or failure of the corresponding year.\n"
      ],
      "metadata": {
        "id": "p6QxcoFfVTxY"
      },
      "execution_count": 3,
      "outputs": []
    },
    {
      "cell_type": "code",
      "source": [
        "# display df_year dataframe\n"
      ],
      "metadata": {
        "id": "Mw1cdR5oWcXu"
      },
      "execution_count": null,
      "outputs": []
    },
    {
      "cell_type": "code",
      "source": [
        "# let's check that some basics stuff to be more confident in our code\n",
        "assert df_year[\"launch\"].sum() == data.shape[0]\n",
        "assert (df_year[\"launch\"] == (df_year[\"failure\"] + df_year[\"success\"])).all()"
      ],
      "metadata": {
        "id": "62LaNXFrWdbH"
      },
      "execution_count": null,
      "outputs": []
    },
    {
      "cell_type": "code",
      "source": [
        "# Use plotly line to plot the number of launch per year\n"
      ],
      "metadata": {
        "id": "TfMkjlpwWpBW"
      },
      "execution_count": null,
      "outputs": []
    },
    {
      "cell_type": "code",
      "source": [
        "# Add success and failure per year in previous plot\n"
      ],
      "metadata": {
        "id": "K57QITESWtWI"
      },
      "execution_count": null,
      "outputs": []
    },
    {
      "cell_type": "code",
      "source": [
        "# Add a new column in df_year named failure_percent that contains\n",
        "# the percentage of failed launch per year\n"
      ],
      "metadata": {
        "id": "dXDUtlfaW1-4"
      },
      "execution_count": null,
      "outputs": []
    },
    {
      "cell_type": "code",
      "source": [
        "# Use make_subplots, add_trace and go.Scatter to display a figure with 2 subplots:\n",
        "#  * the number of lanch, success, failure over time\n",
        "#  * the percentage of successful launch over time\n"
      ],
      "metadata": {
        "id": "8Tu2mfINZA2V"
      },
      "execution_count": null,
      "outputs": []
    },
    {
      "cell_type": "markdown",
      "source": [
        "Answer the question 1:"
      ],
      "metadata": {
        "id": "MgHxrSH2ZEMa"
      }
    },
    {
      "cell_type": "markdown",
      "source": [
        "## Question 2\n",
        "\n",
        "Which countries have had the most successful space missions? Has it always been that way?\n",
        "\n",
        "*Note*: create 2 new columns:\n",
        "* `Country`: the country name\n",
        "* `Country_iso`: the country name in ISO format with 3 letters"
      ],
      "metadata": {
        "id": "UAJ_yR6EQz3H"
      }
    },
    {
      "cell_type": "code",
      "source": [
        "# search on google for a python librairy that could handle country names and \n",
        "# install it\n",
        "# NOTE: the module must be able to handle 3-letters ISO format and even \n",
        "# search for a country name"
      ],
      "metadata": {
        "id": "bSaJemnRPpgp"
      },
      "execution_count": null,
      "outputs": []
    },
    {
      "cell_type": "code",
      "source": [
        "# import this new module"
      ],
      "metadata": {
        "id": "qvPm5KBMP0gX"
      },
      "execution_count": null,
      "outputs": []
    },
    {
      "cell_type": "markdown",
      "source": [
        "Firstly, we want to add the 2 new columns. Let's do it by trying to use the location."
      ],
      "metadata": {
        "id": "kiOXhO75YqNk"
      }
    },
    {
      "cell_type": "code",
      "source": [
        "# Create a new list named countries. In a for loop over rows, split the \n",
        "# current location and append the last part in variable countries "
      ],
      "metadata": {
        "id": "Wj1B1Ub7P39c"
      },
      "execution_count": null,
      "outputs": []
    },
    {
      "cell_type": "code",
      "source": [
        "# Display unique values of countries"
      ],
      "metadata": {
        "id": "78D9KMVvQwoM"
      },
      "execution_count": null,
      "outputs": []
    },
    {
      "cell_type": "code",
      "source": [
        "# In a for loop over unique countries, print the current country with the\n",
        "# corresponding output of search_fuzzy of imported module.\n",
        "# Update your code for countries that are not found by the module by checking\n",
        "# on internet the real location and add them so the output of search_fuzzy is \n",
        "# printed for every value in countries"
      ],
      "metadata": {
        "id": "KrR5Qo8gQ8gJ"
      },
      "execution_count": null,
      "outputs": []
    },
    {
      "cell_type": "code",
      "source": [
        "# Now create 2 dictionaries named:\n",
        "#   * country_to_iso: keys are values from countries, values are country\n",
        "#     iso name\n",
        "#   * country_to_iso_3: keys are values from countries, values are 3 letters\n",
        "#     country iso name "
      ],
      "metadata": {
        "id": "WUdxuwTuRm3D"
      },
      "execution_count": null,
      "outputs": []
    },
    {
      "cell_type": "code",
      "source": [
        "# Finally create 2 new columns in data named \"Country\" and \"Country_iso\" with\n",
        "# respectively the country iso name and the country 3-letters iso name"
      ],
      "metadata": {
        "id": "i5A_WlNCUIWB"
      },
      "execution_count": null,
      "outputs": []
    },
    {
      "cell_type": "code",
      "source": [
        "# Display the head of data to check the new columns"
      ],
      "metadata": {
        "id": "uvl78TpkUPFm"
      },
      "execution_count": null,
      "outputs": []
    },
    {
      "cell_type": "markdown",
      "source": [
        "Now that we have explicitly the country names in our data, we can deal with the years (to answer \"Has it been always the case\"). We plan to plot the number of successful missions per country over the years."
      ],
      "metadata": {
        "id": "klQETNgPY_C1"
      }
    },
    {
      "cell_type": "code",
      "source": [
        "# Now, add a column named year to data and fill it with years"
      ],
      "metadata": {
        "id": "eNVHIaJvUhpp"
      },
      "execution_count": null,
      "outputs": []
    },
    {
      "cell_type": "code",
      "source": [
        "# Display the head to check the new data column"
      ],
      "metadata": {
        "id": "aIoM9sFwZwPj"
      },
      "execution_count": null,
      "outputs": []
    },
    {
      "cell_type": "code",
      "source": [
        "# Create a list and iteratively append 4 values in it: \n",
        "#   - year\n",
        "#   - country\n",
        "#   - number of launches of current country in this current year\n",
        "#   - number of successful launches of current country in this current year\n",
        "#\n",
        "# Help: you could use numpy.logical_and combined with numpy.sum for launch and success"
      ],
      "metadata": {
        "id": "ZZW0JMKMZy3H"
      },
      "execution_count": null,
      "outputs": []
    },
    {
      "cell_type": "code",
      "source": [
        "# Create a dataframe named df_country with 4 columns : \n",
        "#   [\"year\", \"country\", \"launch\", \"success\"]\n",
        "# Use the list above for the dataframe's data"
      ],
      "metadata": {
        "id": "fn8cmbUUZ6aF"
      },
      "execution_count": null,
      "outputs": []
    },
    {
      "cell_type": "code",
      "source": [
        "# Display df_country"
      ],
      "metadata": {
        "id": "f972yTUeZ8z1"
      },
      "execution_count": null,
      "outputs": []
    },
    {
      "cell_type": "code",
      "source": [
        "# Using plotly line, display the Number of successful launches per country \n",
        "# over the years.\n",
        "# Don't forget that a figure must have a title and x-y labels."
      ],
      "metadata": {
        "id": "qiWIqpv6Z_Ui"
      },
      "execution_count": null,
      "outputs": []
    },
    {
      "cell_type": "markdown",
      "source": [
        "## Question 3\n",
        "\n",
        "Which rocket has been used for the most space missions? Is it still active?"
      ],
      "metadata": {
        "id": "Kiq_-JvyQ3gm"
      }
    },
    {
      "cell_type": "markdown",
      "source": [
        "## Question 4 \n",
        "\n",
        "What is the distribution of status over all missions ?\n",
        "Using plotly, show :\n",
        "* the average success rate on a world map\n",
        "* the number of launches per country since 1957 on a world map\n",
        "\n",
        "Comment about Kenya."
      ],
      "metadata": {
        "id": "Ujgv7lNPSqTO"
      }
    },
    {
      "cell_type": "code",
      "source": [],
      "metadata": {
        "id": "8F31xTKYS9Rz"
      },
      "execution_count": null,
      "outputs": []
    }
  ]
}